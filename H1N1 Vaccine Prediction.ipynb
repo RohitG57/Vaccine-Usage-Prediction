{
 "cells": [
  {
   "cell_type": "markdown",
   "id": "ec702e95",
   "metadata": {},
   "source": [
    "# <center> *Vaccine Usage Prediction*"
   ]
  },
  {
   "cell_type": "raw",
   "id": "705dff92",
   "metadata": {},
   "source": [
    "Abstract:\n",
    "\n",
    "Subjects receiving the same vaccine often show different levels of immune responses and some may even present adverse side effects to the vaccine. Systems vaccinology can combine data and machine learning techniques to obtain highly predictive signatures of vaccine immunogenicity and reactogenicity. Currently, several machine learning methods are already available to researchers with no background in bioinformatics."
   ]
  },
  {
   "cell_type": "raw",
   "id": "231fbc9a",
   "metadata": {},
   "source": [
    "Problem Statement:\n",
    "    \n",
    "Predict how likely it is that the people will take an H1N1 flu vaccine using Logistic Regression."
   ]
  },
  {
   "cell_type": "markdown",
   "id": "732a6153",
   "metadata": {},
   "source": [
    "| Column   | Description   |\n",
    "|:---|:---|\n",
    "|**unique_id** | Unique identifier for each respondent |\n",
    "|**h1n1_worry** | Worry about the h1n1 flu(0,1,2,3) 0=Not worried at all, 1=Not very worried, 2=Somewhat worried, 3=Very worried\n",
    "|**h1n1_awareness** | Signifies the amount of knowledge or understanding the respondent has about h1n1 flu - (0,1,2) - 0=No knowledge, 1=little knowledge, 2=good knowledge\n",
    "|**antiviral_medication** | Has the respondent taken antiviral vaccination - (0,1) |\n",
    "|**contact_avoidance** | Has avoided any close contact with people who have flu-like symptoms - (0,1) |\n",
    "|**bought_face_mask** | Has the respondent bought mask or not - (0,1) |\n",
    "|**wash_hands_frequently** | Washes hands frequently or uses hand sanitizer - (0,1) |\n",
    "|**avoid_large_gatherings** | Has the respondent reduced time spent at large gatherings - (0,1) |\n",
    "|**reduced_outside_home_cont** | Has the respondent reduced contact with people outside their own house - (0,1) |\n",
    "|**avoid_touch_face** | Avoids touching nose, eyes, mouth - (0,1) |\n",
    "|**dr_recc_h1n1_vacc** | Doctor has recommended h1n1 vaccine - (0,1) |\n",
    "|**dr_recc_seasonal_vacc** | The doctor has recommended seasonal flu vaccine - (0,1) |\n",
    "|**chronic_medic_condition** | Has any chronic medical condition - (0,1) |\n",
    "|**cont_child_undr_6_mnth** | Has regular contact with child the age of 6 months - (0,1) |\n",
    "|**is_health_worker** | Is respondent a health worker - (0,1) |\n",
    "|**has_health_insur** | Does respondent have health insurance - (0,1) |\n",
    "|**is_h1n1_vacc_effective** | Does respondent think that the h1n1 vaccine is effective - (1,2,3,4,5)- (1=Thinks not effective at all, 2=Thinks it is not very effective, 3=Doesn't know if it is effective or not, 4=Thinks it is somewhat effective, 5=Thinks it is highly effective) |\n",
    "|**is_h1n1_risky** | What respondents think about the risk of getting ill with h1n1 in the absence of the vaccine- (1,2,3,4,5)- (1=Thinks it is not very low risk, 2=Thinks it is somewhat low risk, 3=don’t know if it is risky or not, 4=Thinks it is a somewhat high risk, 5=Thinks it is very highly risky) |\n",
    "|**sick_from_h1n1_vacc** | Does respondent worry about getting sick by taking the h1n1 vaccine - (1,2,3,4,5)- (1=Respondent not worried at all, 2=Respondent is not very worried, 3=Doesn't know, 4=Respondent is somewhat worried, 5Respondent is very worried) |\n",
    "|**is_seas_vacc_effective** | Does respondent think that the seasonal vaccine is effective- (1,2,3,4,5)- (1=Thinks not effective at all, 2=Thinks it is not very effective, 3=Doesn't know if it is effective or not, 4=Thinks it is somewhat effective, 5=Thinks it is highly effective) |\n",
    "|**is_seas_flu_risky** | What respondents think about the risk of getting ill with seasonal flu in the absence of the vaccine- (1,2,3,4,5)- (1=Thinks it is not very low risk, 2=Thinks it is somewhat low risk, 3=Doesn't know if it is risky or not, 4=Thinks it is somewhat high risk, 5=Thinks it is very highly risky) |\n",
    "|**sick_from_seas_vacc** | Does respondent worry about getting sick by taking the seasonal flu vaccine - (1,2,3,4,5)- (1=Respondent not worried at all, 2=Respondent is not very worried, 3=Doesn't know, 4=Respondent is somewhat worried, 5Respondent is very worried) |\n",
    "|**age_bracket** | Age bracket of the respondent - (18 - 34 Years, 35 - 44 Years, 45 - 54 Years, 55 - 64 Years, 64+ Years) |\n",
    "|**qualification** | Qualification/education level of the respondent as per their response -(<12 Years, 12 Years, College Graduate, Some College) |\n",
    "|**race** | Respondent's race - (White, Black, Other or Multiple ,Hispanic) |\n",
    "|**sex** | Respondent's sex - (Female, Male) |\n",
    "|**income_level** | Annual income of the respondent as per the 2008 poverty Census - (<= 75000−Below Poverty, >75000-AbovePoverty) |\n",
    "|**marital_status** | Respondent's marital status - (Not Married, Married) |\n",
    "|**housing_status** | Respondent's housing status - (Own, Rent) |\n",
    "|**employment** | Respondent's employment status - (Not in Labor Force, Employed, Unemployed) |\n",
    "|**census_msa** | Residence of the respondent with the MSA(metropolitan statistical area)(Non-MSA, MSA- Not Principle, CityMSA-Principle city) - (Yes, no) |\n",
    "|**no_of_adults** | Number of adults in the respondent's house (0,1,2,3) - (Yes, no) |\n",
    "|**no_of_children** | Number of children in the respondent's house(0,1,2,3) - (Yes, No) |\n",
    "|**h1n1_vaccine** | (Dependent variable) Did the respondent receive the h1n1 vaccine or not(1,0) - (Yes, No) |"
   ]
  },
  {
   "cell_type": "raw",
   "id": "14f52074",
   "metadata": {},
   "source": [
    "Scope:\n",
    "\n",
    "●\tExploratory data analysis\n",
    "●\tData Pre-processing\n",
    "●\tTraining logistic regression model with MLE for prediction\n",
    "●\tTuning the model to improve the performance"
   ]
  },
  {
   "cell_type": "code",
   "execution_count": null,
   "id": "0458a9c8",
   "metadata": {},
   "outputs": [],
   "source": []
  },
  {
   "cell_type": "markdown",
   "id": "85df027a",
   "metadata": {},
   "source": [
    "## *Getting data*"
   ]
  },
  {
   "cell_type": "code",
   "execution_count": 256,
   "id": "5fe93c18",
   "metadata": {},
   "outputs": [],
   "source": [
    "# Importing important libraries\n",
    "import pandas as pd \n",
    "import numpy as np\n",
    "import seaborn as sns\n",
    "import matplotlib.pyplot as plt\n",
    "%matplotlib inline\n",
    "import pylab as pl\n",
    "import warnings\n",
    "warnings.filterwarnings('ignore')\n",
    "#pd.set_option('Display.max_rows', None)"
   ]
  },
  {
   "cell_type": "code",
   "execution_count": 257,
   "id": "f32222e0",
   "metadata": {},
   "outputs": [],
   "source": [
    "vaccine = pd.read_csv(r'h1n1_vaccine_prediction.csv')"
   ]
  },
  {
   "cell_type": "code",
   "execution_count": 258,
   "id": "a65c03d6",
   "metadata": {},
   "outputs": [
    {
     "data": {
      "text/html": [
       "<div>\n",
       "<style scoped>\n",
       "    .dataframe tbody tr th:only-of-type {\n",
       "        vertical-align: middle;\n",
       "    }\n",
       "\n",
       "    .dataframe tbody tr th {\n",
       "        vertical-align: top;\n",
       "    }\n",
       "\n",
       "    .dataframe thead th {\n",
       "        text-align: right;\n",
       "    }\n",
       "</style>\n",
       "<table border=\"1\" class=\"dataframe\">\n",
       "  <thead>\n",
       "    <tr style=\"text-align: right;\">\n",
       "      <th></th>\n",
       "      <th>unique_id</th>\n",
       "      <th>h1n1_worry</th>\n",
       "      <th>h1n1_awareness</th>\n",
       "      <th>antiviral_medication</th>\n",
       "      <th>contact_avoidance</th>\n",
       "      <th>bought_face_mask</th>\n",
       "      <th>wash_hands_frequently</th>\n",
       "      <th>avoid_large_gatherings</th>\n",
       "      <th>reduced_outside_home_cont</th>\n",
       "      <th>avoid_touch_face</th>\n",
       "      <th>...</th>\n",
       "      <th>race</th>\n",
       "      <th>sex</th>\n",
       "      <th>income_level</th>\n",
       "      <th>marital_status</th>\n",
       "      <th>housing_status</th>\n",
       "      <th>employment</th>\n",
       "      <th>census_msa</th>\n",
       "      <th>no_of_adults</th>\n",
       "      <th>no_of_children</th>\n",
       "      <th>h1n1_vaccine</th>\n",
       "    </tr>\n",
       "  </thead>\n",
       "  <tbody>\n",
       "    <tr>\n",
       "      <th>0</th>\n",
       "      <td>0</td>\n",
       "      <td>1.0</td>\n",
       "      <td>0.0</td>\n",
       "      <td>0.0</td>\n",
       "      <td>0.0</td>\n",
       "      <td>0.0</td>\n",
       "      <td>0.0</td>\n",
       "      <td>0.0</td>\n",
       "      <td>1.0</td>\n",
       "      <td>1.0</td>\n",
       "      <td>...</td>\n",
       "      <td>White</td>\n",
       "      <td>Female</td>\n",
       "      <td>Below Poverty</td>\n",
       "      <td>Not Married</td>\n",
       "      <td>Own</td>\n",
       "      <td>Not in Labor Force</td>\n",
       "      <td>Non-MSA</td>\n",
       "      <td>0.0</td>\n",
       "      <td>0.0</td>\n",
       "      <td>0</td>\n",
       "    </tr>\n",
       "    <tr>\n",
       "      <th>1</th>\n",
       "      <td>1</td>\n",
       "      <td>3.0</td>\n",
       "      <td>2.0</td>\n",
       "      <td>0.0</td>\n",
       "      <td>1.0</td>\n",
       "      <td>0.0</td>\n",
       "      <td>1.0</td>\n",
       "      <td>0.0</td>\n",
       "      <td>1.0</td>\n",
       "      <td>1.0</td>\n",
       "      <td>...</td>\n",
       "      <td>White</td>\n",
       "      <td>Male</td>\n",
       "      <td>Below Poverty</td>\n",
       "      <td>Not Married</td>\n",
       "      <td>Rent</td>\n",
       "      <td>Employed</td>\n",
       "      <td>MSA, Not Principle  City</td>\n",
       "      <td>0.0</td>\n",
       "      <td>0.0</td>\n",
       "      <td>0</td>\n",
       "    </tr>\n",
       "    <tr>\n",
       "      <th>2</th>\n",
       "      <td>2</td>\n",
       "      <td>1.0</td>\n",
       "      <td>1.0</td>\n",
       "      <td>0.0</td>\n",
       "      <td>1.0</td>\n",
       "      <td>0.0</td>\n",
       "      <td>0.0</td>\n",
       "      <td>0.0</td>\n",
       "      <td>0.0</td>\n",
       "      <td>0.0</td>\n",
       "      <td>...</td>\n",
       "      <td>White</td>\n",
       "      <td>Male</td>\n",
       "      <td>&lt;= $75,000, Above Poverty</td>\n",
       "      <td>Not Married</td>\n",
       "      <td>Own</td>\n",
       "      <td>Employed</td>\n",
       "      <td>MSA, Not Principle  City</td>\n",
       "      <td>2.0</td>\n",
       "      <td>0.0</td>\n",
       "      <td>0</td>\n",
       "    </tr>\n",
       "    <tr>\n",
       "      <th>3</th>\n",
       "      <td>3</td>\n",
       "      <td>1.0</td>\n",
       "      <td>1.0</td>\n",
       "      <td>0.0</td>\n",
       "      <td>1.0</td>\n",
       "      <td>0.0</td>\n",
       "      <td>1.0</td>\n",
       "      <td>1.0</td>\n",
       "      <td>0.0</td>\n",
       "      <td>0.0</td>\n",
       "      <td>...</td>\n",
       "      <td>White</td>\n",
       "      <td>Female</td>\n",
       "      <td>Below Poverty</td>\n",
       "      <td>Not Married</td>\n",
       "      <td>Rent</td>\n",
       "      <td>Not in Labor Force</td>\n",
       "      <td>MSA, Principle City</td>\n",
       "      <td>0.0</td>\n",
       "      <td>0.0</td>\n",
       "      <td>0</td>\n",
       "    </tr>\n",
       "    <tr>\n",
       "      <th>4</th>\n",
       "      <td>4</td>\n",
       "      <td>2.0</td>\n",
       "      <td>1.0</td>\n",
       "      <td>0.0</td>\n",
       "      <td>1.0</td>\n",
       "      <td>0.0</td>\n",
       "      <td>1.0</td>\n",
       "      <td>1.0</td>\n",
       "      <td>0.0</td>\n",
       "      <td>1.0</td>\n",
       "      <td>...</td>\n",
       "      <td>White</td>\n",
       "      <td>Female</td>\n",
       "      <td>&lt;= $75,000, Above Poverty</td>\n",
       "      <td>Married</td>\n",
       "      <td>Own</td>\n",
       "      <td>Employed</td>\n",
       "      <td>MSA, Not Principle  City</td>\n",
       "      <td>1.0</td>\n",
       "      <td>0.0</td>\n",
       "      <td>0</td>\n",
       "    </tr>\n",
       "  </tbody>\n",
       "</table>\n",
       "<p>5 rows × 34 columns</p>\n",
       "</div>"
      ],
      "text/plain": [
       "   unique_id  h1n1_worry  h1n1_awareness  antiviral_medication  \\\n",
       "0          0         1.0             0.0                   0.0   \n",
       "1          1         3.0             2.0                   0.0   \n",
       "2          2         1.0             1.0                   0.0   \n",
       "3          3         1.0             1.0                   0.0   \n",
       "4          4         2.0             1.0                   0.0   \n",
       "\n",
       "   contact_avoidance  bought_face_mask  wash_hands_frequently  \\\n",
       "0                0.0               0.0                    0.0   \n",
       "1                1.0               0.0                    1.0   \n",
       "2                1.0               0.0                    0.0   \n",
       "3                1.0               0.0                    1.0   \n",
       "4                1.0               0.0                    1.0   \n",
       "\n",
       "   avoid_large_gatherings  reduced_outside_home_cont  avoid_touch_face  ...  \\\n",
       "0                     0.0                        1.0               1.0  ...   \n",
       "1                     0.0                        1.0               1.0  ...   \n",
       "2                     0.0                        0.0               0.0  ...   \n",
       "3                     1.0                        0.0               0.0  ...   \n",
       "4                     1.0                        0.0               1.0  ...   \n",
       "\n",
       "    race     sex               income_level  marital_status  housing_status  \\\n",
       "0  White  Female              Below Poverty     Not Married             Own   \n",
       "1  White    Male              Below Poverty     Not Married            Rent   \n",
       "2  White    Male  <= $75,000, Above Poverty     Not Married             Own   \n",
       "3  White  Female              Below Poverty     Not Married            Rent   \n",
       "4  White  Female  <= $75,000, Above Poverty         Married             Own   \n",
       "\n",
       "           employment                census_msa  no_of_adults  no_of_children  \\\n",
       "0  Not in Labor Force                   Non-MSA           0.0             0.0   \n",
       "1            Employed  MSA, Not Principle  City           0.0             0.0   \n",
       "2            Employed  MSA, Not Principle  City           2.0             0.0   \n",
       "3  Not in Labor Force       MSA, Principle City           0.0             0.0   \n",
       "4            Employed  MSA, Not Principle  City           1.0             0.0   \n",
       "\n",
       "   h1n1_vaccine  \n",
       "0             0  \n",
       "1             0  \n",
       "2             0  \n",
       "3             0  \n",
       "4             0  \n",
       "\n",
       "[5 rows x 34 columns]"
      ]
     },
     "execution_count": 258,
     "metadata": {},
     "output_type": "execute_result"
    }
   ],
   "source": [
    "vaccine.head()"
   ]
  },
  {
   "cell_type": "code",
   "execution_count": 259,
   "id": "1cb7c923",
   "metadata": {},
   "outputs": [
    {
     "data": {
      "text/html": [
       "<div>\n",
       "<style scoped>\n",
       "    .dataframe tbody tr th:only-of-type {\n",
       "        vertical-align: middle;\n",
       "    }\n",
       "\n",
       "    .dataframe tbody tr th {\n",
       "        vertical-align: top;\n",
       "    }\n",
       "\n",
       "    .dataframe thead th {\n",
       "        text-align: right;\n",
       "    }\n",
       "</style>\n",
       "<table border=\"1\" class=\"dataframe\">\n",
       "  <thead>\n",
       "    <tr style=\"text-align: right;\">\n",
       "      <th></th>\n",
       "      <th>unique_id</th>\n",
       "      <th>h1n1_worry</th>\n",
       "      <th>h1n1_awareness</th>\n",
       "      <th>antiviral_medication</th>\n",
       "      <th>contact_avoidance</th>\n",
       "      <th>bought_face_mask</th>\n",
       "      <th>wash_hands_frequently</th>\n",
       "      <th>avoid_large_gatherings</th>\n",
       "      <th>reduced_outside_home_cont</th>\n",
       "      <th>avoid_touch_face</th>\n",
       "      <th>...</th>\n",
       "      <th>race</th>\n",
       "      <th>sex</th>\n",
       "      <th>income_level</th>\n",
       "      <th>marital_status</th>\n",
       "      <th>housing_status</th>\n",
       "      <th>employment</th>\n",
       "      <th>census_msa</th>\n",
       "      <th>no_of_adults</th>\n",
       "      <th>no_of_children</th>\n",
       "      <th>h1n1_vaccine</th>\n",
       "    </tr>\n",
       "  </thead>\n",
       "  <tbody>\n",
       "    <tr>\n",
       "      <th>26702</th>\n",
       "      <td>26702</td>\n",
       "      <td>2.0</td>\n",
       "      <td>0.0</td>\n",
       "      <td>0.0</td>\n",
       "      <td>1.0</td>\n",
       "      <td>0.0</td>\n",
       "      <td>0.0</td>\n",
       "      <td>0.0</td>\n",
       "      <td>1.0</td>\n",
       "      <td>0.0</td>\n",
       "      <td>...</td>\n",
       "      <td>White</td>\n",
       "      <td>Female</td>\n",
       "      <td>&lt;= $75,000, Above Poverty</td>\n",
       "      <td>Not Married</td>\n",
       "      <td>Own</td>\n",
       "      <td>Not in Labor Force</td>\n",
       "      <td>Non-MSA</td>\n",
       "      <td>0.0</td>\n",
       "      <td>0.0</td>\n",
       "      <td>0</td>\n",
       "    </tr>\n",
       "    <tr>\n",
       "      <th>26703</th>\n",
       "      <td>26703</td>\n",
       "      <td>1.0</td>\n",
       "      <td>2.0</td>\n",
       "      <td>0.0</td>\n",
       "      <td>1.0</td>\n",
       "      <td>0.0</td>\n",
       "      <td>1.0</td>\n",
       "      <td>0.0</td>\n",
       "      <td>0.0</td>\n",
       "      <td>0.0</td>\n",
       "      <td>...</td>\n",
       "      <td>White</td>\n",
       "      <td>Male</td>\n",
       "      <td>&lt;= $75,000, Above Poverty</td>\n",
       "      <td>Not Married</td>\n",
       "      <td>Rent</td>\n",
       "      <td>Employed</td>\n",
       "      <td>MSA, Principle City</td>\n",
       "      <td>1.0</td>\n",
       "      <td>0.0</td>\n",
       "      <td>0</td>\n",
       "    </tr>\n",
       "    <tr>\n",
       "      <th>26704</th>\n",
       "      <td>26704</td>\n",
       "      <td>2.0</td>\n",
       "      <td>2.0</td>\n",
       "      <td>0.0</td>\n",
       "      <td>1.0</td>\n",
       "      <td>1.0</td>\n",
       "      <td>1.0</td>\n",
       "      <td>1.0</td>\n",
       "      <td>0.0</td>\n",
       "      <td>1.0</td>\n",
       "      <td>...</td>\n",
       "      <td>White</td>\n",
       "      <td>Female</td>\n",
       "      <td>NaN</td>\n",
       "      <td>Not Married</td>\n",
       "      <td>Own</td>\n",
       "      <td>NaN</td>\n",
       "      <td>MSA, Not Principle  City</td>\n",
       "      <td>0.0</td>\n",
       "      <td>0.0</td>\n",
       "      <td>0</td>\n",
       "    </tr>\n",
       "    <tr>\n",
       "      <th>26705</th>\n",
       "      <td>26705</td>\n",
       "      <td>1.0</td>\n",
       "      <td>1.0</td>\n",
       "      <td>0.0</td>\n",
       "      <td>0.0</td>\n",
       "      <td>0.0</td>\n",
       "      <td>0.0</td>\n",
       "      <td>0.0</td>\n",
       "      <td>0.0</td>\n",
       "      <td>NaN</td>\n",
       "      <td>...</td>\n",
       "      <td>Hispanic</td>\n",
       "      <td>Female</td>\n",
       "      <td>&lt;= $75,000, Above Poverty</td>\n",
       "      <td>Married</td>\n",
       "      <td>Rent</td>\n",
       "      <td>Employed</td>\n",
       "      <td>Non-MSA</td>\n",
       "      <td>1.0</td>\n",
       "      <td>0.0</td>\n",
       "      <td>0</td>\n",
       "    </tr>\n",
       "    <tr>\n",
       "      <th>26706</th>\n",
       "      <td>26706</td>\n",
       "      <td>0.0</td>\n",
       "      <td>0.0</td>\n",
       "      <td>0.0</td>\n",
       "      <td>1.0</td>\n",
       "      <td>0.0</td>\n",
       "      <td>0.0</td>\n",
       "      <td>0.0</td>\n",
       "      <td>0.0</td>\n",
       "      <td>0.0</td>\n",
       "      <td>...</td>\n",
       "      <td>White</td>\n",
       "      <td>Male</td>\n",
       "      <td>&lt;= $75,000, Above Poverty</td>\n",
       "      <td>Married</td>\n",
       "      <td>Own</td>\n",
       "      <td>Not in Labor Force</td>\n",
       "      <td>MSA, Principle City</td>\n",
       "      <td>1.0</td>\n",
       "      <td>0.0</td>\n",
       "      <td>0</td>\n",
       "    </tr>\n",
       "  </tbody>\n",
       "</table>\n",
       "<p>5 rows × 34 columns</p>\n",
       "</div>"
      ],
      "text/plain": [
       "       unique_id  h1n1_worry  h1n1_awareness  antiviral_medication  \\\n",
       "26702      26702         2.0             0.0                   0.0   \n",
       "26703      26703         1.0             2.0                   0.0   \n",
       "26704      26704         2.0             2.0                   0.0   \n",
       "26705      26705         1.0             1.0                   0.0   \n",
       "26706      26706         0.0             0.0                   0.0   \n",
       "\n",
       "       contact_avoidance  bought_face_mask  wash_hands_frequently  \\\n",
       "26702                1.0               0.0                    0.0   \n",
       "26703                1.0               0.0                    1.0   \n",
       "26704                1.0               1.0                    1.0   \n",
       "26705                0.0               0.0                    0.0   \n",
       "26706                1.0               0.0                    0.0   \n",
       "\n",
       "       avoid_large_gatherings  reduced_outside_home_cont  avoid_touch_face  \\\n",
       "26702                     0.0                        1.0               0.0   \n",
       "26703                     0.0                        0.0               0.0   \n",
       "26704                     1.0                        0.0               1.0   \n",
       "26705                     0.0                        0.0               NaN   \n",
       "26706                     0.0                        0.0               0.0   \n",
       "\n",
       "       ...      race     sex               income_level  marital_status  \\\n",
       "26702  ...     White  Female  <= $75,000, Above Poverty     Not Married   \n",
       "26703  ...     White    Male  <= $75,000, Above Poverty     Not Married   \n",
       "26704  ...     White  Female                        NaN     Not Married   \n",
       "26705  ...  Hispanic  Female  <= $75,000, Above Poverty         Married   \n",
       "26706  ...     White    Male  <= $75,000, Above Poverty         Married   \n",
       "\n",
       "       housing_status          employment                census_msa  \\\n",
       "26702             Own  Not in Labor Force                   Non-MSA   \n",
       "26703            Rent            Employed       MSA, Principle City   \n",
       "26704             Own                 NaN  MSA, Not Principle  City   \n",
       "26705            Rent            Employed                   Non-MSA   \n",
       "26706             Own  Not in Labor Force       MSA, Principle City   \n",
       "\n",
       "       no_of_adults  no_of_children  h1n1_vaccine  \n",
       "26702           0.0             0.0             0  \n",
       "26703           1.0             0.0             0  \n",
       "26704           0.0             0.0             0  \n",
       "26705           1.0             0.0             0  \n",
       "26706           1.0             0.0             0  \n",
       "\n",
       "[5 rows x 34 columns]"
      ]
     },
     "execution_count": 259,
     "metadata": {},
     "output_type": "execute_result"
    }
   ],
   "source": [
    "vaccine.tail()"
   ]
  },
  {
   "cell_type": "code",
   "execution_count": 260,
   "id": "b8c527ec",
   "metadata": {},
   "outputs": [
    {
     "data": {
      "text/plain": [
       "(26707, 34)"
      ]
     },
     "execution_count": 260,
     "metadata": {},
     "output_type": "execute_result"
    }
   ],
   "source": [
    "# Dimension of dataframe\n",
    "vaccine.shape"
   ]
  },
  {
   "cell_type": "code",
   "execution_count": 261,
   "id": "b8c46e8c",
   "metadata": {},
   "outputs": [
    {
     "data": {
      "text/plain": [
       "908038"
      ]
     },
     "execution_count": 261,
     "metadata": {},
     "output_type": "execute_result"
    }
   ],
   "source": [
    "# Number of elements in dataframe/\n",
    "vaccine.size"
   ]
  },
  {
   "cell_type": "code",
   "execution_count": 262,
   "id": "e77fd855",
   "metadata": {},
   "outputs": [
    {
     "name": "stdout",
     "output_type": "stream",
     "text": [
      "<class 'pandas.core.frame.DataFrame'>\n",
      "RangeIndex: 26707 entries, 0 to 26706\n",
      "Data columns (total 34 columns):\n",
      " #   Column                     Non-Null Count  Dtype  \n",
      "---  ------                     --------------  -----  \n",
      " 0   unique_id                  26707 non-null  int64  \n",
      " 1   h1n1_worry                 26615 non-null  float64\n",
      " 2   h1n1_awareness             26591 non-null  float64\n",
      " 3   antiviral_medication       26636 non-null  float64\n",
      " 4   contact_avoidance          26499 non-null  float64\n",
      " 5   bought_face_mask           26688 non-null  float64\n",
      " 6   wash_hands_frequently      26665 non-null  float64\n",
      " 7   avoid_large_gatherings     26620 non-null  float64\n",
      " 8   reduced_outside_home_cont  26625 non-null  float64\n",
      " 9   avoid_touch_face           26579 non-null  float64\n",
      " 10  dr_recc_h1n1_vacc          24547 non-null  float64\n",
      " 11  dr_recc_seasonal_vacc      24547 non-null  float64\n",
      " 12  chronic_medic_condition    25736 non-null  float64\n",
      " 13  cont_child_undr_6_mnths    25887 non-null  float64\n",
      " 14  is_health_worker           25903 non-null  float64\n",
      " 15  has_health_insur           14433 non-null  float64\n",
      " 16  is_h1n1_vacc_effective     26316 non-null  float64\n",
      " 17  is_h1n1_risky              26319 non-null  float64\n",
      " 18  sick_from_h1n1_vacc        26312 non-null  float64\n",
      " 19  is_seas_vacc_effective     26245 non-null  float64\n",
      " 20  is_seas_risky              26193 non-null  float64\n",
      " 21  sick_from_seas_vacc        26170 non-null  float64\n",
      " 22  age_bracket                26707 non-null  object \n",
      " 23  qualification              25300 non-null  object \n",
      " 24  race                       26707 non-null  object \n",
      " 25  sex                        26707 non-null  object \n",
      " 26  income_level               22284 non-null  object \n",
      " 27  marital_status             25299 non-null  object \n",
      " 28  housing_status             24665 non-null  object \n",
      " 29  employment                 25244 non-null  object \n",
      " 30  census_msa                 26707 non-null  object \n",
      " 31  no_of_adults               26458 non-null  float64\n",
      " 32  no_of_children             26458 non-null  float64\n",
      " 33  h1n1_vaccine               26707 non-null  int64  \n",
      "dtypes: float64(23), int64(2), object(9)\n",
      "memory usage: 6.9+ MB\n"
     ]
    }
   ],
   "source": [
    "# Summary of dataframe\n",
    "vaccine.info()"
   ]
  },
  {
   "cell_type": "markdown",
   "id": "1a029d01",
   "metadata": {},
   "source": [
    "- This vaccine prediction dataset has total 34 columns and 26706 rows.\n",
    "- Allmost all the columns are categorical in nature except 4 ('unique_id' ,'no_of_adults', 'no_of_children'). \n",
    "- Data is missing in many variables.\n",
    "- 'h1n1_vaccine' is our target variable."
   ]
  },
  {
   "cell_type": "code",
   "execution_count": 263,
   "id": "9e0f04ac",
   "metadata": {},
   "outputs": [
    {
     "name": "stdout",
     "output_type": "stream",
     "text": [
      "Unique values in unique_id\n",
      "[    0     1     2 ... 26704 26705 26706]\n",
      "\n",
      "Value count of unique_id\n",
      "0        1\n",
      "17736    1\n",
      "17812    1\n",
      "17811    1\n",
      "17810    1\n",
      "        ..\n",
      "8898     1\n",
      "8897     1\n",
      "8896     1\n",
      "8895     1\n",
      "26706    1\n",
      "Name: unique_id, Length: 26707, dtype: int64\n",
      "*******************************************************\n",
      "Unique values in h1n1_worry\n",
      "[ 1.  3.  2.  0. nan]\n",
      "\n",
      "Value count of h1n1_worry\n",
      "2.0    10575\n",
      "1.0     8153\n",
      "3.0     4591\n",
      "0.0     3296\n",
      "Name: h1n1_worry, dtype: int64\n",
      "*******************************************************\n",
      "Unique values in h1n1_awareness\n",
      "[ 0.  2.  1. nan]\n",
      "\n",
      "Value count of h1n1_awareness\n",
      "1.0    14598\n",
      "2.0     9487\n",
      "0.0     2506\n",
      "Name: h1n1_awareness, dtype: int64\n",
      "*******************************************************\n",
      "Unique values in antiviral_medication\n",
      "[ 0.  1. nan]\n",
      "\n",
      "Value count of antiviral_medication\n",
      "0.0    25335\n",
      "1.0     1301\n",
      "Name: antiviral_medication, dtype: int64\n",
      "*******************************************************\n",
      "Unique values in contact_avoidance\n",
      "[ 0.  1. nan]\n",
      "\n",
      "Value count of contact_avoidance\n",
      "1.0    19228\n",
      "0.0     7271\n",
      "Name: contact_avoidance, dtype: int64\n",
      "*******************************************************\n",
      "Unique values in bought_face_mask\n",
      "[ 0.  1. nan]\n",
      "\n",
      "Value count of bought_face_mask\n",
      "0.0    24847\n",
      "1.0     1841\n",
      "Name: bought_face_mask, dtype: int64\n",
      "*******************************************************\n",
      "Unique values in wash_hands_frequently\n",
      "[ 0.  1. nan]\n",
      "\n",
      "Value count of wash_hands_frequently\n",
      "1.0    22015\n",
      "0.0     4650\n",
      "Name: wash_hands_frequently, dtype: int64\n",
      "*******************************************************\n",
      "Unique values in avoid_large_gatherings\n",
      "[ 0.  1. nan]\n",
      "\n",
      "Value count of avoid_large_gatherings\n",
      "0.0    17073\n",
      "1.0     9547\n",
      "Name: avoid_large_gatherings, dtype: int64\n",
      "*******************************************************\n",
      "Unique values in reduced_outside_home_cont\n",
      "[ 1.  0. nan]\n",
      "\n",
      "Value count of reduced_outside_home_cont\n",
      "0.0    17644\n",
      "1.0     8981\n",
      "Name: reduced_outside_home_cont, dtype: int64\n",
      "*******************************************************\n",
      "Unique values in avoid_touch_face\n",
      "[ 1.  0. nan]\n",
      "\n",
      "Value count of avoid_touch_face\n",
      "1.0    18001\n",
      "0.0     8578\n",
      "Name: avoid_touch_face, dtype: int64\n",
      "*******************************************************\n",
      "Unique values in dr_recc_h1n1_vacc\n",
      "[ 0. nan  1.]\n",
      "\n",
      "Value count of dr_recc_h1n1_vacc\n",
      "0.0    19139\n",
      "1.0     5408\n",
      "Name: dr_recc_h1n1_vacc, dtype: int64\n",
      "*******************************************************\n",
      "Unique values in dr_recc_seasonal_vacc\n",
      "[ 0. nan  1.]\n",
      "\n",
      "Value count of dr_recc_seasonal_vacc\n",
      "0.0    16453\n",
      "1.0     8094\n",
      "Name: dr_recc_seasonal_vacc, dtype: int64\n",
      "*******************************************************\n",
      "Unique values in chronic_medic_condition\n",
      "[ 0.  1. nan]\n",
      "\n",
      "Value count of chronic_medic_condition\n",
      "0.0    18446\n",
      "1.0     7290\n",
      "Name: chronic_medic_condition, dtype: int64\n",
      "*******************************************************\n",
      "Unique values in cont_child_undr_6_mnths\n",
      "[ 0.  1. nan]\n",
      "\n",
      "Value count of cont_child_undr_6_mnths\n",
      "0.0    23749\n",
      "1.0     2138\n",
      "Name: cont_child_undr_6_mnths, dtype: int64\n",
      "*******************************************************\n",
      "Unique values in is_health_worker\n",
      "[ 0.  1. nan]\n",
      "\n",
      "Value count of is_health_worker\n",
      "0.0    23004\n",
      "1.0     2899\n",
      "Name: is_health_worker, dtype: int64\n",
      "*******************************************************\n",
      "Unique values in has_health_insur\n",
      "[ 1. nan  0.]\n",
      "\n",
      "Value count of has_health_insur\n",
      "1.0    12697\n",
      "0.0     1736\n",
      "Name: has_health_insur, dtype: int64\n",
      "*******************************************************\n",
      "Unique values in is_h1n1_vacc_effective\n",
      "[ 3.  5.  4.  2.  1. nan]\n",
      "\n",
      "Value count of is_h1n1_vacc_effective\n",
      "4.0    11683\n",
      "5.0     7166\n",
      "3.0     4723\n",
      "2.0     1858\n",
      "1.0      886\n",
      "Name: is_h1n1_vacc_effective, dtype: int64\n",
      "*******************************************************\n",
      "Unique values in is_h1n1_risky\n",
      "[ 1.  4.  3.  2.  5. nan]\n",
      "\n",
      "Value count of is_h1n1_risky\n",
      "2.0    9919\n",
      "1.0    8139\n",
      "4.0    5394\n",
      "5.0    1750\n",
      "3.0    1117\n",
      "Name: is_h1n1_risky, dtype: int64\n",
      "*******************************************************\n",
      "Unique values in sick_from_h1n1_vacc\n",
      "[ 2.  4.  1.  5.  3. nan]\n",
      "\n",
      "Value count of sick_from_h1n1_vacc\n",
      "2.0    9129\n",
      "1.0    8998\n",
      "4.0    5850\n",
      "5.0    2187\n",
      "3.0     148\n",
      "Name: sick_from_h1n1_vacc, dtype: int64\n",
      "*******************************************************\n",
      "Unique values in is_seas_vacc_effective\n",
      "[ 2.  4.  5.  3.  1. nan]\n",
      "\n",
      "Value count of is_seas_vacc_effective\n",
      "4.0    11629\n",
      "5.0     9973\n",
      "2.0     2206\n",
      "1.0     1221\n",
      "3.0     1216\n",
      "Name: is_seas_vacc_effective, dtype: int64\n",
      "*******************************************************\n",
      "Unique values in is_seas_risky\n",
      "[ 1.  2.  4.  3.  5. nan]\n",
      "\n",
      "Value count of is_seas_risky\n",
      "2.0    8954\n",
      "4.0    7630\n",
      "1.0    5974\n",
      "5.0    2958\n",
      "3.0     677\n",
      "Name: is_seas_risky, dtype: int64\n",
      "*******************************************************\n",
      "Unique values in sick_from_seas_vacc\n",
      "[ 2.  4.  1.  5. nan  3.]\n",
      "\n",
      "Value count of sick_from_seas_vacc\n",
      "1.0    11870\n",
      "2.0     7633\n",
      "4.0     4852\n",
      "5.0     1721\n",
      "3.0       94\n",
      "Name: sick_from_seas_vacc, dtype: int64\n",
      "*******************************************************\n",
      "Unique values in age_bracket\n",
      "['55 - 64 Years' '35 - 44 Years' '18 - 34 Years' '65+ Years'\n",
      " '45 - 54 Years']\n",
      "\n",
      "Value count of age_bracket\n",
      "65+ Years        6843\n",
      "55 - 64 Years    5563\n",
      "45 - 54 Years    5238\n",
      "18 - 34 Years    5215\n",
      "35 - 44 Years    3848\n",
      "Name: age_bracket, dtype: int64\n",
      "*******************************************************\n",
      "Unique values in qualification\n",
      "['< 12 Years' '12 Years' 'College Graduate' 'Some College' nan]\n",
      "\n",
      "Value count of qualification\n",
      "College Graduate    10097\n",
      "Some College         7043\n",
      "12 Years             5797\n",
      "< 12 Years           2363\n",
      "Name: qualification, dtype: int64\n",
      "*******************************************************\n",
      "Unique values in race\n",
      "['White' 'Black' 'Other or Multiple' 'Hispanic']\n",
      "\n",
      "Value count of race\n",
      "White                21222\n",
      "Black                 2118\n",
      "Hispanic              1755\n",
      "Other or Multiple     1612\n",
      "Name: race, dtype: int64\n",
      "*******************************************************\n",
      "Unique values in sex\n",
      "['Female' 'Male']\n",
      "\n",
      "Value count of sex\n",
      "Female    15858\n",
      "Male      10849\n",
      "Name: sex, dtype: int64\n",
      "*******************************************************\n",
      "Unique values in income_level\n",
      "['Below Poverty' '<= $75,000, Above Poverty' '> $75,000' nan]\n",
      "\n",
      "Value count of income_level\n",
      "<= $75,000, Above Poverty    12777\n",
      "> $75,000                     6810\n",
      "Below Poverty                 2697\n",
      "Name: income_level, dtype: int64\n",
      "*******************************************************\n",
      "Unique values in marital_status\n",
      "['Not Married' 'Married' nan]\n",
      "\n",
      "Value count of marital_status\n",
      "Married        13555\n",
      "Not Married    11744\n",
      "Name: marital_status, dtype: int64\n",
      "*******************************************************\n",
      "Unique values in housing_status\n",
      "['Own' 'Rent' nan]\n",
      "\n",
      "Value count of housing_status\n",
      "Own     18736\n",
      "Rent     5929\n",
      "Name: housing_status, dtype: int64\n",
      "*******************************************************\n",
      "Unique values in employment\n",
      "['Not in Labor Force' 'Employed' 'Unemployed' nan]\n",
      "\n",
      "Value count of employment\n",
      "Employed              13560\n",
      "Not in Labor Force    10231\n",
      "Unemployed             1453\n",
      "Name: employment, dtype: int64\n",
      "*******************************************************\n",
      "Unique values in census_msa\n",
      "['Non-MSA' 'MSA, Not Principle  City' 'MSA, Principle City']\n",
      "\n",
      "Value count of census_msa\n",
      "MSA, Not Principle  City    11645\n",
      "MSA, Principle City          7864\n",
      "Non-MSA                      7198\n",
      "Name: census_msa, dtype: int64\n",
      "*******************************************************\n",
      "Unique values in no_of_adults\n",
      "[ 0.  2.  1.  3. nan]\n",
      "\n",
      "Value count of no_of_adults\n",
      "1.0    14474\n",
      "0.0     8056\n",
      "2.0     2803\n",
      "3.0     1125\n",
      "Name: no_of_adults, dtype: int64\n",
      "*******************************************************\n",
      "Unique values in no_of_children\n",
      "[ 0.  3.  2.  1. nan]\n",
      "\n",
      "Value count of no_of_children\n",
      "0.0    18672\n",
      "1.0     3175\n",
      "2.0     2864\n",
      "3.0     1747\n",
      "Name: no_of_children, dtype: int64\n",
      "*******************************************************\n",
      "Unique values in h1n1_vaccine\n",
      "[0 1]\n",
      "\n",
      "Value count of h1n1_vaccine\n",
      "0    21033\n",
      "1     5674\n",
      "Name: h1n1_vaccine, dtype: int64\n",
      "*******************************************************\n"
     ]
    }
   ],
   "source": [
    "# Checking unique values\n",
    "\n",
    "for i in vaccine.columns:\n",
    "    print('Unique values in',i)\n",
    "    print(vaccine[i].unique())\n",
    "    print('')\n",
    "    print('Value count of',i)\n",
    "    print(vaccine[i].value_counts())\n",
    "    print('*******************************************************')"
   ]
  },
  {
   "cell_type": "code",
   "execution_count": 264,
   "id": "46d6e316",
   "metadata": {},
   "outputs": [],
   "source": [
    "# Creating copy of dataset\n",
    "vaccine1 = vaccine.copy(deep=True)"
   ]
  },
  {
   "cell_type": "code",
   "execution_count": 265,
   "id": "0e9701e9",
   "metadata": {},
   "outputs": [],
   "source": [
    "# Removing 'income_level' variable because of data entry errors\n",
    "vaccine.drop('income_level', inplace=True, axis=1)"
   ]
  },
  {
   "cell_type": "code",
   "execution_count": 266,
   "id": "e437c185",
   "metadata": {},
   "outputs": [
    {
     "data": {
      "text/plain": [
       "unique_id                        0\n",
       "h1n1_worry                      92\n",
       "h1n1_awareness                 116\n",
       "antiviral_medication            71\n",
       "contact_avoidance              208\n",
       "bought_face_mask                19\n",
       "wash_hands_frequently           42\n",
       "avoid_large_gatherings          87\n",
       "reduced_outside_home_cont       82\n",
       "avoid_touch_face               128\n",
       "dr_recc_h1n1_vacc             2160\n",
       "dr_recc_seasonal_vacc         2160\n",
       "chronic_medic_condition        971\n",
       "cont_child_undr_6_mnths        820\n",
       "is_health_worker               804\n",
       "has_health_insur             12274\n",
       "is_h1n1_vacc_effective         391\n",
       "is_h1n1_risky                  388\n",
       "sick_from_h1n1_vacc            395\n",
       "is_seas_vacc_effective         462\n",
       "is_seas_risky                  514\n",
       "sick_from_seas_vacc            537\n",
       "age_bracket                      0\n",
       "qualification                 1407\n",
       "race                             0\n",
       "sex                              0\n",
       "marital_status                1408\n",
       "housing_status                2042\n",
       "employment                    1463\n",
       "census_msa                       0\n",
       "no_of_adults                   249\n",
       "no_of_children                 249\n",
       "h1n1_vaccine                     0\n",
       "dtype: int64"
      ]
     },
     "execution_count": 266,
     "metadata": {},
     "output_type": "execute_result"
    }
   ],
   "source": [
    "# Ckecking null values \n",
    "vaccine.isnull().sum()"
   ]
  },
  {
   "cell_type": "code",
   "execution_count": 267,
   "id": "63689f1f",
   "metadata": {},
   "outputs": [
    {
     "data": {
      "text/plain": [
       "unique_id                     0.00\n",
       "h1n1_worry                    0.34\n",
       "h1n1_awareness                0.43\n",
       "antiviral_medication          0.27\n",
       "contact_avoidance             0.78\n",
       "bought_face_mask              0.07\n",
       "wash_hands_frequently         0.16\n",
       "avoid_large_gatherings        0.33\n",
       "reduced_outside_home_cont     0.31\n",
       "avoid_touch_face              0.48\n",
       "dr_recc_h1n1_vacc             8.09\n",
       "dr_recc_seasonal_vacc         8.09\n",
       "chronic_medic_condition       3.64\n",
       "cont_child_undr_6_mnths       3.07\n",
       "is_health_worker              3.01\n",
       "has_health_insur             45.96\n",
       "is_h1n1_vacc_effective        1.46\n",
       "is_h1n1_risky                 1.45\n",
       "sick_from_h1n1_vacc           1.48\n",
       "is_seas_vacc_effective        1.73\n",
       "is_seas_risky                 1.92\n",
       "sick_from_seas_vacc           2.01\n",
       "age_bracket                   0.00\n",
       "qualification                 5.27\n",
       "race                          0.00\n",
       "sex                           0.00\n",
       "marital_status                5.27\n",
       "housing_status                7.65\n",
       "employment                    5.48\n",
       "census_msa                    0.00\n",
       "no_of_adults                  0.93\n",
       "no_of_children                0.93\n",
       "h1n1_vaccine                  0.00\n",
       "dtype: float64"
      ]
     },
     "execution_count": 267,
     "metadata": {},
     "output_type": "execute_result"
    }
   ],
   "source": [
    "# Ckecking null values percentage\n",
    "round((vaccine.isnull().sum()/vaccine.shape[0])*100,2)"
   ]
  },
  {
   "cell_type": "code",
   "execution_count": 268,
   "id": "662fb52a",
   "metadata": {},
   "outputs": [],
   "source": [
    "# In dataset 'has_health_insur' variable contain 46% missing values and if data imputation is performed it will \n",
    "# skew the data so we will remove this variable or we can fill it with 0(1--->have insurance, 0--->Do not have a insurance).\n",
    "# vaccine.drop('has_health_insur',axis=1, inplace=True)"
   ]
  },
  {
   "cell_type": "code",
   "execution_count": 269,
   "id": "75dd3d6e",
   "metadata": {},
   "outputs": [],
   "source": [
    "# Filling missing values with either majority class or data suited based on nature of variable\n",
    "\n",
    "vaccine.h1n1_worry = vaccine.h1n1_worry.fillna(vaccine.h1n1_worry.mode().iloc[0])\n",
    "vaccine.h1n1_awareness = vaccine.h1n1_awareness.fillna(vaccine.h1n1_awareness.mode().iloc[0])\n",
    "vaccine.antiviral_medication = vaccine.antiviral_medication.fillna(vaccine.antiviral_medication.mode().iloc[0])\n",
    "vaccine.contact_avoidance = vaccine.contact_avoidance.fillna(vaccine.contact_avoidance.mode().iloc[0])\n",
    "vaccine.bought_face_mask = vaccine.bought_face_mask.fillna(vaccine.bought_face_mask.mode().iloc[0])\n",
    "\n",
    "vaccine.wash_hands_frequently = vaccine.wash_hands_frequently.fillna(vaccine.wash_hands_frequently.mode().iloc[0])\n",
    "vaccine.avoid_large_gatherings = vaccine.avoid_large_gatherings.fillna(vaccine.avoid_large_gatherings.mode().iloc[0])\n",
    "vaccine.reduced_outside_home_cont = vaccine.reduced_outside_home_cont.fillna(vaccine.reduced_outside_home_cont.mode().iloc[0])\n",
    "vaccine.avoid_touch_face = vaccine.avoid_touch_face.fillna(vaccine.avoid_touch_face.mode().iloc[0])\n",
    "vaccine.dr_recc_h1n1_vacc = vaccine.dr_recc_h1n1_vacc.fillna(vaccine.dr_recc_h1n1_vacc.mode().iloc[0])\n",
    "\n",
    "vaccine.dr_recc_seasonal_vacc = vaccine.dr_recc_seasonal_vacc.fillna(vaccine.dr_recc_seasonal_vacc.mode().iloc[0])\n",
    "vaccine.chronic_medic_condition = vaccine.chronic_medic_condition.fillna(vaccine.chronic_medic_condition.mode().iloc[0])\n",
    "vaccine.cont_child_undr_6_mnths = vaccine.cont_child_undr_6_mnths.fillna(vaccine.cont_child_undr_6_mnths.mode().iloc[0])\n",
    "vaccine.is_health_worker = vaccine.is_health_worker.fillna(vaccine.is_health_worker.mode().iloc[0])\n",
    "vaccine.has_health_insur = vaccine.has_health_insur.fillna(0)\n",
    "\n",
    "vaccine.is_h1n1_vacc_effective = vaccine.is_h1n1_vacc_effective.fillna(vaccine.is_h1n1_vacc_effective.mode().iloc[0])\n",
    "vaccine.is_h1n1_risky = vaccine.is_h1n1_risky.fillna(vaccine.is_h1n1_risky.mode().iloc[0])\n",
    "vaccine.sick_from_h1n1_vacc = vaccine.sick_from_h1n1_vacc.fillna(vaccine.sick_from_h1n1_vacc.mode().iloc[0])\n",
    "vaccine.is_seas_vacc_effective = vaccine.is_seas_vacc_effective.fillna(vaccine.is_seas_vacc_effective.mode().iloc[0])\n",
    "vaccine.is_seas_risky = vaccine.is_seas_risky.fillna(vaccine.is_seas_risky.mode().iloc[0])\n",
    "\n",
    "vaccine.sick_from_seas_vacc = vaccine.sick_from_seas_vacc.fillna(vaccine.sick_from_seas_vacc.mode().iloc[0])\n",
    "vaccine.qualification = vaccine.qualification.fillna(vaccine.qualification.mode().iloc[0])\n",
    "vaccine.marital_status = vaccine.marital_status.fillna('Not Married')\n",
    "vaccine.housing_status = vaccine.housing_status.fillna(vaccine.housing_status.mode().iloc[0])\n",
    "vaccine.employment = vaccine.employment.fillna(vaccine.employment.mode().iloc[0])\n",
    "\n",
    "vaccine.no_of_adults = vaccine.no_of_adults.fillna(0)\n",
    "vaccine.no_of_children = vaccine.no_of_children.fillna(0)"
   ]
  },
  {
   "cell_type": "raw",
   "id": "d6067474",
   "metadata": {},
   "source": [
    "# Allmost all the variables are categorical in nature so will change the data type \n",
    "\n",
    "def change_data_type(data_frame):\n",
    "    for i in data_frame.columns:\n",
    "        if data_frame[i].dtype == 'float':\n",
    "            data_frame[i] = data_frame[i].astype('category')\n",
    "        else:\n",
    "            continue\n",
    "    return data_frame"
   ]
  },
  {
   "cell_type": "raw",
   "id": "6ca8d3bb",
   "metadata": {},
   "source": [
    "# Applying the function \n",
    "\n",
    "vaccine.no_of_adults = vaccine.no_of_adults.astype('int')\n",
    "vaccine.no_of_children = vaccine.no_of_children.astype('int')\n",
    "\n",
    "change_data_type(vaccine)"
   ]
  },
  {
   "cell_type": "code",
   "execution_count": 270,
   "id": "d4e4c50e",
   "metadata": {},
   "outputs": [
    {
     "data": {
      "text/plain": [
       "False"
      ]
     },
     "execution_count": 270,
     "metadata": {},
     "output_type": "execute_result"
    }
   ],
   "source": [
    "# Checking duplicates\n",
    "\n",
    "vaccine.duplicated().any()"
   ]
  },
  {
   "cell_type": "raw",
   "id": "e70c8b64",
   "metadata": {},
   "source": [
    "# Statistical summary\n",
    "\n",
    "vaccine.iloc[: ,1:15].describe(include='all')"
   ]
  },
  {
   "cell_type": "raw",
   "id": "af64c9c9",
   "metadata": {},
   "source": [
    "vaccine.iloc[: ,15:].describe(include='all')"
   ]
  },
  {
   "cell_type": "code",
   "execution_count": null,
   "id": "d25e67db",
   "metadata": {},
   "outputs": [],
   "source": []
  },
  {
   "cell_type": "markdown",
   "id": "4c057730",
   "metadata": {},
   "source": [
    "## *Exploratory Data Analysis*"
   ]
  },
  {
   "cell_type": "code",
   "execution_count": 271,
   "id": "8a10a508",
   "metadata": {},
   "outputs": [
    {
     "data": {
      "image/png": "[encoded data removed]",
      "text/plain": [
       "<Figure size 600x300 with 2 Axes>"
      ]
     },
     "metadata": {},
     "output_type": "display_data"
    }
   ],
   "source": [
    "# Distribution of numerical variable\n",
    "\n",
    "plt.figure(figsize=(6,3))\n",
    "\n",
    "plt.subplot(1,2,1)\n",
    "sns.histplot(x=vaccine.no_of_children, kde=True)\n",
    "\n",
    "plt.subplot(1,2,2)\n",
    "sns.histplot(x=vaccine.no_of_adults, kde=True)\n",
    "\n",
    "pl.subplots_adjust(wspace=0.5)\n",
    "plt.suptitle('Histogram of numeric variables')\n",
    "plt.show()"
   ]
  },
  {
   "cell_type": "code",
   "execution_count": 272,
   "id": "f34c6f20",
   "metadata": {},
   "outputs": [],
   "source": [
    "# Get a list of available colormaps\n",
    "colormaps = [m for m in plt.colormaps() if not m.startswith('_')]"
   ]
  },
  {
   "cell_type": "code",
   "execution_count": 273,
   "id": "559cfcb6",
   "metadata": {},
   "outputs": [
    {
     "data": {
      "text/plain": [
       "['magma',\n",
       " 'inferno',\n",
       " 'plasma',\n",
       " 'viridis',\n",
       " 'cividis',\n",
       " 'twilight',\n",
       " 'twilight_shifted',\n",
       " 'turbo',\n",
       " 'Blues',\n",
       " 'BrBG',\n",
       " 'BuGn',\n",
       " 'BuPu',\n",
       " 'CMRmap',\n",
       " 'GnBu',\n",
       " 'Greens',\n",
       " 'Greys',\n",
       " 'OrRd',\n",
       " 'Oranges',\n",
       " 'PRGn',\n",
       " 'PiYG',\n",
       " 'PuBu',\n",
       " 'PuBuGn',\n",
       " 'PuOr',\n",
       " 'PuRd',\n",
       " 'Purples',\n",
       " 'RdBu',\n",
       " 'RdGy',\n",
       " 'RdPu',\n",
       " 'RdYlBu',\n",
       " 'RdYlGn',\n",
       " 'Reds',\n",
       " 'Spectral',\n",
       " 'Wistia',\n",
       " 'YlGn',\n",
       " 'YlGnBu',\n",
       " 'YlOrBr',\n",
       " 'YlOrRd',\n",
       " 'afmhot',\n",
       " 'autumn',\n",
       " 'binary',\n",
       " 'bone',\n",
       " 'brg',\n",
       " 'bwr',\n",
       " 'cool',\n",
       " 'coolwarm',\n",
       " 'copper',\n",
       " 'cubehelix',\n",
       " 'flag',\n",
       " 'gist_earth',\n",
       " 'gist_gray',\n",
       " 'gist_heat',\n",
       " 'gist_ncar',\n",
       " 'gist_rainbow',\n",
       " 'gist_stern',\n",
       " 'gist_yarg',\n",
       " 'gnuplot',\n",
       " 'gnuplot2',\n",
       " 'gray',\n",
       " 'hot',\n",
       " 'hsv',\n",
       " 'jet',\n",
       " 'nipy_spectral',\n",
       " 'ocean',\n",
       " 'pink',\n",
       " 'prism',\n",
       " 'rainbow',\n",
       " 'seismic',\n",
       " 'spring',\n",
       " 'summer',\n",
       " 'terrain',\n",
       " 'winter',\n",
       " 'Accent',\n",
       " 'Dark2',\n",
       " 'Paired',\n",
       " 'Pastel1',\n",
       " 'Pastel2',\n",
       " 'Set1',\n",
       " 'Set2',\n",
       " 'Set3',\n",
       " 'tab10',\n",
       " 'tab20',\n",
       " 'tab20b',\n",
       " 'tab20c',\n",
       " 'magma_r',\n",
       " 'inferno_r',\n",
       " 'plasma_r',\n",
       " 'viridis_r',\n",
       " 'cividis_r',\n",
       " 'twilight_r',\n",
       " 'twilight_shifted_r',\n",
       " 'turbo_r',\n",
       " 'Blues_r',\n",
       " 'BrBG_r',\n",
       " 'BuGn_r',\n",
       " 'BuPu_r',\n",
       " 'CMRmap_r',\n",
       " 'GnBu_r',\n",
       " 'Greens_r',\n",
       " 'Greys_r',\n",
       " 'OrRd_r',\n",
       " 'Oranges_r',\n",
       " 'PRGn_r',\n",
       " 'PiYG_r',\n",
       " 'PuBu_r',\n",
       " 'PuBuGn_r',\n",
       " 'PuOr_r',\n",
       " 'PuRd_r',\n",
       " 'Purples_r',\n",
       " 'RdBu_r',\n",
       " 'RdGy_r',\n",
       " 'RdPu_r',\n",
       " 'RdYlBu_r',\n",
       " 'RdYlGn_r',\n",
       " 'Reds_r',\n",
       " 'Spectral_r',\n",
       " 'Wistia_r',\n",
       " 'YlGn_r',\n",
       " 'YlGnBu_r',\n",
       " 'YlOrBr_r',\n",
       " 'YlOrRd_r',\n",
       " 'afmhot_r',\n",
       " 'autumn_r',\n",
       " 'binary_r',\n",
       " 'bone_r',\n",
       " 'brg_r',\n",
       " 'bwr_r',\n",
       " 'cool_r',\n",
       " 'coolwarm_r',\n",
       " 'copper_r',\n",
       " 'cubehelix_r',\n",
       " 'flag_r',\n",
       " 'gist_earth_r',\n",
       " 'gist_gray_r',\n",
       " 'gist_heat_r',\n",
       " 'gist_ncar_r',\n",
       " 'gist_rainbow_r',\n",
       " 'gist_stern_r',\n",
       " 'gist_yarg_r',\n",
       " 'gnuplot_r',\n",
       " 'gnuplot2_r',\n",
       " 'gray_r',\n",
       " 'hot_r',\n",
       " 'hsv_r',\n",
       " 'jet_r',\n",
       " 'nipy_spectral_r',\n",
       " 'ocean_r',\n",
       " 'pink_r',\n",
       " 'prism_r',\n",
       " 'rainbow_r',\n",
       " 'seismic_r',\n",
       " 'spring_r',\n",
       " 'summer_r',\n",
       " 'terrain_r',\n",
       " 'winter_r',\n",
       " 'Accent_r',\n",
       " 'Dark2_r',\n",
       " 'Paired_r',\n",
       " 'Pastel1_r',\n",
       " 'Pastel2_r',\n",
       " 'Set1_r',\n",
       " 'Set2_r',\n",
       " 'Set3_r',\n",
       " 'tab10_r',\n",
       " 'tab20_r',\n",
       " 'tab20b_r',\n",
       " 'tab20c_r',\n",
       " 'rocket',\n",
       " 'rocket_r',\n",
       " 'mako',\n",
       " 'mako_r',\n",
       " 'icefire',\n",
       " 'icefire_r',\n",
       " 'vlag',\n",
       " 'vlag_r',\n",
       " 'flare',\n",
       " 'flare_r',\n",
       " 'crest',\n",
       " 'crest_r']"
      ]
     },
     "execution_count": 273,
     "metadata": {},
     "output_type": "execute_result"
    }
   ],
   "source": [
    "colormaps"
   ]
  },
  {
   "cell_type": "code",
   "execution_count": 274,
   "id": "0bd58e3a",
   "metadata": {},
   "outputs": [
    {
     "data": {
      "image/png": "[encoded data removed]",
      "text/plain": [
       "<Figure size 300x300 with 1 Axes>"
      ]
     },
     "metadata": {},
     "output_type": "display_data"
    }
   ],
   "source": [
    "# Piechart of categorical variable\n",
    "\n",
    "plt.figure(figsize=(3,3))\n",
    "plt.pie(vaccine.h1n1_vaccine.value_counts(), labels=['vaccine not recieved', 'recieved'], autopct='%.2f%%', startangle=90, explode=(0,0.1))\n",
    "plt.show()"
   ]
  },
  {
   "cell_type": "markdown",
   "id": "d63825da",
   "metadata": {},
   "source": [
    "- More than 14000 subjects have atleast one adult person in family and very few respondent have children.\n",
    "- Target variable is imbalanced as only 22% respondent have recieved vaccine."
   ]
  },
  {
   "cell_type": "code",
   "execution_count": 275,
   "id": "71042cfe",
   "metadata": {},
   "outputs": [
    {
     "data": {
      "image/png": "[encoded data removed]",
      "text/plain": [
       "<Figure size 1000x800 with 9 Axes>"
      ]
     },
     "metadata": {},
     "output_type": "display_data"
    }
   ],
   "source": [
    "# Countplot of categorical variables\n",
    "\n",
    "plt.figure(figsize=(10,8))\n",
    "\n",
    "plt.subplot(3,3,1)\n",
    "sns.countplot(x=vaccine.h1n1_worry, hue=vaccine.h1n1_vaccine)\n",
    "\n",
    "plt.subplot(3,3,2)\n",
    "sns.countplot(x=vaccine.h1n1_awareness, hue=vaccine.h1n1_vaccine)\n",
    "plt.ylabel(' ')\n",
    "\n",
    "plt.subplot(3,3,3)\n",
    "sns.countplot(x=vaccine.antiviral_medication, hue=vaccine.h1n1_vaccine)\n",
    "plt.ylabel(' ')\n",
    "\n",
    "plt.subplot(3,3,4)\n",
    "sns.countplot(x=vaccine.contact_avoidance, hue=vaccine.h1n1_vaccine)\n",
    "\n",
    "plt.subplot(3,3,5)\n",
    "sns.countplot(x=vaccine.bought_face_mask, hue=vaccine.h1n1_vaccine)\n",
    "plt.ylabel(' ')\n",
    "\n",
    "plt.subplot(3,3,6)\n",
    "sns.countplot(x=vaccine.wash_hands_frequently, hue=vaccine.h1n1_vaccine)\n",
    "plt.ylabel(' ')\n",
    "\n",
    "plt.subplot(3,3,7)\n",
    "sns.countplot(x=vaccine.avoid_large_gatherings, hue=vaccine.h1n1_vaccine)\n",
    "\n",
    "plt.subplot(3,3,8)\n",
    "sns.countplot(x=vaccine.reduced_outside_home_cont, hue=vaccine.h1n1_vaccine)\n",
    "plt.ylabel(' ')\n",
    "\n",
    "plt.subplot(3,3,9)\n",
    "sns.countplot(x=vaccine.avoid_touch_face, hue=vaccine.h1n1_vaccine)\n",
    "plt.ylabel(' ')\n",
    "\n",
    "pl.subplots_adjust(wspace=0.6, hspace=0.4)\n",
    "plt.suptitle('Countplot of categorical variables')\n",
    "plt.show()"
   ]
  },
  {
   "cell_type": "markdown",
   "id": "b15aea43",
   "metadata": {},
   "source": [
    "- Looking at above figures it looks like many respondent's know about H1N1 flu and they are worried about it.\n",
    "- Some Respondents are taking precautions like washing hands frequently, avoiding contact but still enough efforts are not taken as many people are not wearing mask and not taking necessary safety measures."
   ]
  },
  {
   "cell_type": "code",
   "execution_count": 276,
   "id": "4c6e2602",
   "metadata": {},
   "outputs": [
    {
     "data": {
      "image/png": "[encoded data removed]",
      "text/plain": [
       "<Figure size 1000x1000 with 8 Axes>"
      ]
     },
     "metadata": {},
     "output_type": "display_data"
    }
   ],
   "source": [
    "# Countplot of categorical variable\n",
    "\n",
    "plt.figure(figsize=(10,10))\n",
    "\n",
    "plt.subplot(4,3,1)\n",
    "sns.countplot(x=vaccine.is_h1n1_vacc_effective, hue=vaccine.h1n1_vaccine)\n",
    "\n",
    "plt.subplot(4,3,2)\n",
    "sns.countplot(x=vaccine.is_h1n1_risky, hue=vaccine.h1n1_vaccine)\n",
    "plt.ylabel(' ')\n",
    "\n",
    "plt.subplot(4,3,3)\n",
    "sns.countplot(x=vaccine.sick_from_h1n1_vacc, hue=vaccine.h1n1_vaccine)\n",
    "plt.ylabel(' ')\n",
    "\n",
    "plt.subplot(4,3,4)\n",
    "sns.countplot(x=vaccine.is_seas_vacc_effective, hue=vaccine.h1n1_vaccine)\n",
    "\n",
    "plt.subplot(4,3,5)\n",
    "sns.countplot(x=vaccine.is_seas_risky, hue=vaccine.h1n1_vaccine)\n",
    "plt.ylabel(' ')\n",
    "\n",
    "plt.subplot(4,3,6)\n",
    "sns.countplot(x=vaccine.sick_from_seas_vacc, hue=vaccine.h1n1_vaccine)\n",
    "plt.ylabel(' ')\n",
    "\n",
    "plt.subplot(4,3,7)\n",
    "sns.countplot(x=vaccine.age_bracket, hue=vaccine.h1n1_vaccine)\n",
    "plt.xticks(rotation=25)\n",
    "\n",
    "plt.subplot(4,3,8)\n",
    "sns.countplot(x=vaccine.qualification, hue=vaccine.h1n1_vaccine)\n",
    "plt.ylabel(' ')\n",
    "plt.xticks(rotation=25)\n",
    "\n",
    "pl.subplots_adjust(wspace=0.6, hspace=0.6)\n",
    "plt.suptitle('Countplot of categorical variables')\n",
    "plt.show()"
   ]
  },
  {
   "cell_type": "markdown",
   "id": "e2c6c675",
   "metadata": {},
   "source": [
    "- Many respondent thinks that H1N1 vaccine is effective but they consider this dieseas as somewhat of low risk.\n",
    "- Same can be said about the seasonal flu and vaccine.\n",
    "- Respondent contain more number of females."
   ]
  },
  {
   "cell_type": "code",
   "execution_count": null,
   "id": "5f0d5fd5",
   "metadata": {},
   "outputs": [],
   "source": []
  },
  {
   "cell_type": "markdown",
   "id": "526090d9",
   "metadata": {},
   "source": [
    "## *Preprocessing*"
   ]
  },
  {
   "cell_type": "code",
   "execution_count": 277,
   "id": "8cf94930",
   "metadata": {},
   "outputs": [
    {
     "name": "stdout",
     "output_type": "stream",
     "text": [
      "[22, 23, 24, 25, 26, 27, 28, 29]\n"
     ]
    }
   ],
   "source": [
    "# Encoding categorical variables\n",
    "\n",
    "from sklearn.preprocessing import LabelEncoder\n",
    "\n",
    "le = LabelEncoder()\n",
    "\n",
    "object_columns = vaccine.select_dtypes('object').columns\n",
    "column_indices = [vaccine.columns.get_loc(col) for col in object_columns]\n",
    "\n",
    "print(column_indices)\n",
    "\n",
    "vaccine.iloc[: ,[22,23,24,25,26,27,28,29]] = vaccine.iloc[: ,[22,23,24,25,26,27,28,29]].apply(le.fit_transform)"
   ]
  },
  {
   "cell_type": "code",
   "execution_count": 280,
   "id": "b4580fbe",
   "metadata": {},
   "outputs": [
    {
     "name": "stdout",
     "output_type": "stream",
     "text": [
      "<class 'pandas.core.frame.DataFrame'>\n",
      "RangeIndex: 26707 entries, 0 to 26706\n",
      "Data columns (total 33 columns):\n",
      " #   Column                     Non-Null Count  Dtype  \n",
      "---  ------                     --------------  -----  \n",
      " 0   unique_id                  26707 non-null  int64  \n",
      " 1   h1n1_worry                 26707 non-null  float64\n",
      " 2   h1n1_awareness             26707 non-null  float64\n",
      " 3   antiviral_medication       26707 non-null  float64\n",
      " 4   contact_avoidance          26707 non-null  float64\n",
      " 5   bought_face_mask           26707 non-null  float64\n",
      " 6   wash_hands_frequently      26707 non-null  float64\n",
      " 7   avoid_large_gatherings     26707 non-null  float64\n",
      " 8   reduced_outside_home_cont  26707 non-null  float64\n",
      " 9   avoid_touch_face           26707 non-null  float64\n",
      " 10  dr_recc_h1n1_vacc          26707 non-null  float64\n",
      " 11  dr_recc_seasonal_vacc      26707 non-null  float64\n",
      " 12  chronic_medic_condition    26707 non-null  float64\n",
      " 13  cont_child_undr_6_mnths    26707 non-null  float64\n",
      " 14  is_health_worker           26707 non-null  float64\n",
      " 15  has_health_insur           26707 non-null  float64\n",
      " 16  is_h1n1_vacc_effective     26707 non-null  float64\n",
      " 17  is_h1n1_risky              26707 non-null  float64\n",
      " 18  sick_from_h1n1_vacc        26707 non-null  float64\n",
      " 19  is_seas_vacc_effective     26707 non-null  float64\n",
      " 20  is_seas_risky              26707 non-null  float64\n",
      " 21  sick_from_seas_vacc        26707 non-null  float64\n",
      " 22  age_bracket                26707 non-null  int32  \n",
      " 23  qualification              26707 non-null  int32  \n",
      " 24  race                       26707 non-null  int32  \n",
      " 25  sex                        26707 non-null  int32  \n",
      " 26  marital_status             26707 non-null  int32  \n",
      " 27  housing_status             26707 non-null  int32  \n",
      " 28  employment                 26707 non-null  int32  \n",
      " 29  census_msa                 26707 non-null  int32  \n",
      " 30  no_of_adults               26707 non-null  float64\n",
      " 31  no_of_children             26707 non-null  float64\n",
      " 32  h1n1_vaccine               26707 non-null  int64  \n",
      "dtypes: float64(23), int32(8), int64(2)\n",
      "memory usage: 5.9 MB\n"
     ]
    }
   ],
   "source": [
    "vaccine.info()"
   ]
  },
  {
   "cell_type": "code",
   "execution_count": 281,
   "id": "fb614826",
   "metadata": {},
   "outputs": [],
   "source": [
    "# Spliting into dependent and Independent variables\n",
    "\n",
    "x = vaccine.drop(['unique_id','h1n1_vaccine'], axis=1)\n",
    "y = vaccine['h1n1_vaccine']"
   ]
  },
  {
   "cell_type": "code",
   "execution_count": null,
   "id": "1bb0efcf",
   "metadata": {},
   "outputs": [],
   "source": []
  },
  {
   "cell_type": "markdown",
   "id": "e575dabd",
   "metadata": {},
   "source": [
    "### Feature selection"
   ]
  },
  {
   "cell_type": "code",
   "execution_count": 282,
   "id": "aa84659b",
   "metadata": {},
   "outputs": [],
   "source": [
    "# Using RFE\n",
    "\n",
    "from sklearn.feature_selection import RFE\n",
    "from sklearn.linear_model import LogisticRegression\n",
    "\n",
    "log = LogisticRegression()\n",
    "rfe = RFE(log)\n",
    "rfe = rfe.fit(x, y)\n",
    "\n",
    "selected_features=x.columns[rfe.support_]\n",
    "x_rfe = x[selected_features]"
   ]
  },
  {
   "cell_type": "code",
   "execution_count": 283,
   "id": "9448010e",
   "metadata": {},
   "outputs": [
    {
     "data": {
      "text/plain": [
       "(26707, 15)"
      ]
     },
     "execution_count": 283,
     "metadata": {},
     "output_type": "execute_result"
    }
   ],
   "source": [
    "x_rfe.shape"
   ]
  },
  {
   "cell_type": "code",
   "execution_count": 284,
   "id": "0459c05f",
   "metadata": {},
   "outputs": [],
   "source": [
    "feature_selection = pd.DataFrame({'Features':x.columns, 'rfe_Support':rfe.support_, 'rfe_Ranking':rfe.ranking_})"
   ]
  },
  {
   "cell_type": "code",
   "execution_count": null,
   "id": "9ab70c35",
   "metadata": {},
   "outputs": [],
   "source": []
  },
  {
   "cell_type": "code",
   "execution_count": 285,
   "id": "5db3a93a",
   "metadata": {},
   "outputs": [],
   "source": [
    "# Using SelectKbest method\n",
    "\n",
    "from sklearn.feature_selection import SelectKBest\n",
    "from sklearn.feature_selection import chi2\n",
    "\n",
    "selectKbest = SelectKBest(chi2, k=15).fit(x, y)\n",
    "\n",
    "selected_features_kbest=x.columns[selectKbest.get_support()]\n",
    "x_selectKbest = x[selected_features_kbest]"
   ]
  },
  {
   "cell_type": "code",
   "execution_count": 286,
   "id": "e454b1bb",
   "metadata": {},
   "outputs": [
    {
     "data": {
      "text/plain": [
       "(26707, 15)"
      ]
     },
     "execution_count": 286,
     "metadata": {},
     "output_type": "execute_result"
    }
   ],
   "source": [
    "x_selectKbest.shape"
   ]
  },
  {
   "cell_type": "code",
   "execution_count": 287,
   "id": "1be23ad8",
   "metadata": {},
   "outputs": [],
   "source": [
    "feature_selection['selectKbest.get_support()'] = selectKbest.get_support()"
   ]
  },
  {
   "cell_type": "code",
   "execution_count": null,
   "id": "1397b8af",
   "metadata": {},
   "outputs": [],
   "source": []
  },
  {
   "cell_type": "code",
   "execution_count": 288,
   "id": "698fe445",
   "metadata": {},
   "outputs": [],
   "source": [
    "# Using Varience Threshold method\n",
    "\n",
    "from sklearn.feature_selection import VarianceThreshold\n",
    "import numpy as np \n",
    "\n",
    "var = VarianceThreshold(threshold=0.2).fit(x)\n",
    "\n",
    "selected_features_varience=x.columns[var.get_support()]\n",
    "x_varience = x[selected_features_varience]"
   ]
  },
  {
   "cell_type": "code",
   "execution_count": 289,
   "id": "9d0abfe2",
   "metadata": {},
   "outputs": [
    {
     "data": {
      "text/plain": [
       "(26707, 22)"
      ]
     },
     "execution_count": 289,
     "metadata": {},
     "output_type": "execute_result"
    }
   ],
   "source": [
    "x_varience.shape"
   ]
  },
  {
   "cell_type": "code",
   "execution_count": 290,
   "id": "790d33a6",
   "metadata": {},
   "outputs": [
    {
     "data": {
      "text/html": [
       "<div>\n",
       "<style scoped>\n",
       "    .dataframe tbody tr th:only-of-type {\n",
       "        vertical-align: middle;\n",
       "    }\n",
       "\n",
       "    .dataframe tbody tr th {\n",
       "        vertical-align: top;\n",
       "    }\n",
       "\n",
       "    .dataframe thead th {\n",
       "        text-align: right;\n",
       "    }\n",
       "</style>\n",
       "<table border=\"1\" class=\"dataframe\">\n",
       "  <thead>\n",
       "    <tr style=\"text-align: right;\">\n",
       "      <th></th>\n",
       "      <th>Features</th>\n",
       "      <th>rfe_Support</th>\n",
       "      <th>rfe_Ranking</th>\n",
       "      <th>selectKbest.get_support()</th>\n",
       "      <th>var.get_support()</th>\n",
       "    </tr>\n",
       "  </thead>\n",
       "  <tbody>\n",
       "    <tr>\n",
       "      <th>0</th>\n",
       "      <td>h1n1_worry</td>\n",
       "      <td>False</td>\n",
       "      <td>16</td>\n",
       "      <td>True</td>\n",
       "      <td>True</td>\n",
       "    </tr>\n",
       "    <tr>\n",
       "      <th>1</th>\n",
       "      <td>h1n1_awareness</td>\n",
       "      <td>True</td>\n",
       "      <td>1</td>\n",
       "      <td>True</td>\n",
       "      <td>True</td>\n",
       "    </tr>\n",
       "    <tr>\n",
       "      <th>2</th>\n",
       "      <td>antiviral_medication</td>\n",
       "      <td>False</td>\n",
       "      <td>2</td>\n",
       "      <td>False</td>\n",
       "      <td>False</td>\n",
       "    </tr>\n",
       "    <tr>\n",
       "      <th>3</th>\n",
       "      <td>contact_avoidance</td>\n",
       "      <td>False</td>\n",
       "      <td>5</td>\n",
       "      <td>False</td>\n",
       "      <td>False</td>\n",
       "    </tr>\n",
       "    <tr>\n",
       "      <th>4</th>\n",
       "      <td>bought_face_mask</td>\n",
       "      <td>True</td>\n",
       "      <td>1</td>\n",
       "      <td>True</td>\n",
       "      <td>False</td>\n",
       "    </tr>\n",
       "    <tr>\n",
       "      <th>5</th>\n",
       "      <td>wash_hands_frequently</td>\n",
       "      <td>False</td>\n",
       "      <td>6</td>\n",
       "      <td>False</td>\n",
       "      <td>False</td>\n",
       "    </tr>\n",
       "    <tr>\n",
       "      <th>6</th>\n",
       "      <td>avoid_large_gatherings</td>\n",
       "      <td>True</td>\n",
       "      <td>1</td>\n",
       "      <td>False</td>\n",
       "      <td>True</td>\n",
       "    </tr>\n",
       "    <tr>\n",
       "      <th>7</th>\n",
       "      <td>reduced_outside_home_cont</td>\n",
       "      <td>False</td>\n",
       "      <td>14</td>\n",
       "      <td>False</td>\n",
       "      <td>True</td>\n",
       "    </tr>\n",
       "    <tr>\n",
       "      <th>8</th>\n",
       "      <td>avoid_touch_face</td>\n",
       "      <td>False</td>\n",
       "      <td>9</td>\n",
       "      <td>False</td>\n",
       "      <td>True</td>\n",
       "    </tr>\n",
       "    <tr>\n",
       "      <th>9</th>\n",
       "      <td>dr_recc_h1n1_vacc</td>\n",
       "      <td>True</td>\n",
       "      <td>1</td>\n",
       "      <td>True</td>\n",
       "      <td>False</td>\n",
       "    </tr>\n",
       "    <tr>\n",
       "      <th>10</th>\n",
       "      <td>dr_recc_seasonal_vacc</td>\n",
       "      <td>True</td>\n",
       "      <td>1</td>\n",
       "      <td>True</td>\n",
       "      <td>True</td>\n",
       "    </tr>\n",
       "    <tr>\n",
       "      <th>11</th>\n",
       "      <td>chronic_medic_condition</td>\n",
       "      <td>False</td>\n",
       "      <td>10</td>\n",
       "      <td>True</td>\n",
       "      <td>False</td>\n",
       "    </tr>\n",
       "    <tr>\n",
       "      <th>12</th>\n",
       "      <td>cont_child_undr_6_mnths</td>\n",
       "      <td>True</td>\n",
       "      <td>1</td>\n",
       "      <td>True</td>\n",
       "      <td>False</td>\n",
       "    </tr>\n",
       "    <tr>\n",
       "      <th>13</th>\n",
       "      <td>is_health_worker</td>\n",
       "      <td>True</td>\n",
       "      <td>1</td>\n",
       "      <td>True</td>\n",
       "      <td>False</td>\n",
       "    </tr>\n",
       "    <tr>\n",
       "      <th>14</th>\n",
       "      <td>has_health_insur</td>\n",
       "      <td>True</td>\n",
       "      <td>1</td>\n",
       "      <td>True</td>\n",
       "      <td>True</td>\n",
       "    </tr>\n",
       "    <tr>\n",
       "      <th>15</th>\n",
       "      <td>is_h1n1_vacc_effective</td>\n",
       "      <td>True</td>\n",
       "      <td>1</td>\n",
       "      <td>True</td>\n",
       "      <td>True</td>\n",
       "    </tr>\n",
       "    <tr>\n",
       "      <th>16</th>\n",
       "      <td>is_h1n1_risky</td>\n",
       "      <td>True</td>\n",
       "      <td>1</td>\n",
       "      <td>True</td>\n",
       "      <td>True</td>\n",
       "    </tr>\n",
       "    <tr>\n",
       "      <th>17</th>\n",
       "      <td>sick_from_h1n1_vacc</td>\n",
       "      <td>False</td>\n",
       "      <td>13</td>\n",
       "      <td>True</td>\n",
       "      <td>True</td>\n",
       "    </tr>\n",
       "    <tr>\n",
       "      <th>18</th>\n",
       "      <td>is_seas_vacc_effective</td>\n",
       "      <td>True</td>\n",
       "      <td>1</td>\n",
       "      <td>True</td>\n",
       "      <td>True</td>\n",
       "    </tr>\n",
       "    <tr>\n",
       "      <th>19</th>\n",
       "      <td>is_seas_risky</td>\n",
       "      <td>True</td>\n",
       "      <td>1</td>\n",
       "      <td>True</td>\n",
       "      <td>True</td>\n",
       "    </tr>\n",
       "    <tr>\n",
       "      <th>20</th>\n",
       "      <td>sick_from_seas_vacc</td>\n",
       "      <td>True</td>\n",
       "      <td>1</td>\n",
       "      <td>False</td>\n",
       "      <td>True</td>\n",
       "    </tr>\n",
       "    <tr>\n",
       "      <th>21</th>\n",
       "      <td>age_bracket</td>\n",
       "      <td>False</td>\n",
       "      <td>3</td>\n",
       "      <td>True</td>\n",
       "      <td>True</td>\n",
       "    </tr>\n",
       "    <tr>\n",
       "      <th>22</th>\n",
       "      <td>qualification</td>\n",
       "      <td>False</td>\n",
       "      <td>8</td>\n",
       "      <td>False</td>\n",
       "      <td>True</td>\n",
       "    </tr>\n",
       "    <tr>\n",
       "      <th>23</th>\n",
       "      <td>race</td>\n",
       "      <td>False</td>\n",
       "      <td>4</td>\n",
       "      <td>False</td>\n",
       "      <td>True</td>\n",
       "    </tr>\n",
       "    <tr>\n",
       "      <th>24</th>\n",
       "      <td>sex</td>\n",
       "      <td>True</td>\n",
       "      <td>1</td>\n",
       "      <td>False</td>\n",
       "      <td>True</td>\n",
       "    </tr>\n",
       "    <tr>\n",
       "      <th>25</th>\n",
       "      <td>marital_status</td>\n",
       "      <td>False</td>\n",
       "      <td>11</td>\n",
       "      <td>False</td>\n",
       "      <td>True</td>\n",
       "    </tr>\n",
       "    <tr>\n",
       "      <th>26</th>\n",
       "      <td>housing_status</td>\n",
       "      <td>True</td>\n",
       "      <td>1</td>\n",
       "      <td>False</td>\n",
       "      <td>False</td>\n",
       "    </tr>\n",
       "    <tr>\n",
       "      <th>27</th>\n",
       "      <td>employment</td>\n",
       "      <td>False</td>\n",
       "      <td>17</td>\n",
       "      <td>False</td>\n",
       "      <td>True</td>\n",
       "    </tr>\n",
       "    <tr>\n",
       "      <th>28</th>\n",
       "      <td>census_msa</td>\n",
       "      <td>False</td>\n",
       "      <td>7</td>\n",
       "      <td>False</td>\n",
       "      <td>True</td>\n",
       "    </tr>\n",
       "    <tr>\n",
       "      <th>29</th>\n",
       "      <td>no_of_adults</td>\n",
       "      <td>False</td>\n",
       "      <td>15</td>\n",
       "      <td>False</td>\n",
       "      <td>True</td>\n",
       "    </tr>\n",
       "    <tr>\n",
       "      <th>30</th>\n",
       "      <td>no_of_children</td>\n",
       "      <td>False</td>\n",
       "      <td>12</td>\n",
       "      <td>False</td>\n",
       "      <td>True</td>\n",
       "    </tr>\n",
       "  </tbody>\n",
       "</table>\n",
       "</div>"
      ],
      "text/plain": [
       "                     Features  rfe_Support  rfe_Ranking  \\\n",
       "0                  h1n1_worry        False           16   \n",
       "1              h1n1_awareness         True            1   \n",
       "2        antiviral_medication        False            2   \n",
       "3           contact_avoidance        False            5   \n",
       "4            bought_face_mask         True            1   \n",
       "5       wash_hands_frequently        False            6   \n",
       "6      avoid_large_gatherings         True            1   \n",
       "7   reduced_outside_home_cont        False           14   \n",
       "8            avoid_touch_face        False            9   \n",
       "9           dr_recc_h1n1_vacc         True            1   \n",
       "10      dr_recc_seasonal_vacc         True            1   \n",
       "11    chronic_medic_condition        False           10   \n",
       "12    cont_child_undr_6_mnths         True            1   \n",
       "13           is_health_worker         True            1   \n",
       "14           has_health_insur         True            1   \n",
       "15     is_h1n1_vacc_effective         True            1   \n",
       "16              is_h1n1_risky         True            1   \n",
       "17        sick_from_h1n1_vacc        False           13   \n",
       "18     is_seas_vacc_effective         True            1   \n",
       "19              is_seas_risky         True            1   \n",
       "20        sick_from_seas_vacc         True            1   \n",
       "21                age_bracket        False            3   \n",
       "22              qualification        False            8   \n",
       "23                       race        False            4   \n",
       "24                        sex         True            1   \n",
       "25             marital_status        False           11   \n",
       "26             housing_status         True            1   \n",
       "27                 employment        False           17   \n",
       "28                 census_msa        False            7   \n",
       "29               no_of_adults        False           15   \n",
       "30             no_of_children        False           12   \n",
       "\n",
       "    selectKbest.get_support()  var.get_support()  \n",
       "0                        True               True  \n",
       "1                        True               True  \n",
       "2                       False              False  \n",
       "3                       False              False  \n",
       "4                        True              False  \n",
       "5                       False              False  \n",
       "6                       False               True  \n",
       "7                       False               True  \n",
       "8                       False               True  \n",
       "9                        True              False  \n",
       "10                       True               True  \n",
       "11                       True              False  \n",
       "12                       True              False  \n",
       "13                       True              False  \n",
       "14                       True               True  \n",
       "15                       True               True  \n",
       "16                       True               True  \n",
       "17                       True               True  \n",
       "18                       True               True  \n",
       "19                       True               True  \n",
       "20                      False               True  \n",
       "21                       True               True  \n",
       "22                      False               True  \n",
       "23                      False               True  \n",
       "24                      False               True  \n",
       "25                      False               True  \n",
       "26                      False              False  \n",
       "27                      False               True  \n",
       "28                      False               True  \n",
       "29                      False               True  \n",
       "30                      False               True  "
      ]
     },
     "execution_count": 290,
     "metadata": {},
     "output_type": "execute_result"
    }
   ],
   "source": [
    "feature_selection['var.get_support()'] = var.get_support()\n",
    "feature_selection"
   ]
  },
  {
   "cell_type": "code",
   "execution_count": null,
   "id": "5e3252f1",
   "metadata": {},
   "outputs": [],
   "source": []
  },
  {
   "cell_type": "code",
   "execution_count": 291,
   "id": "c17c4634",
   "metadata": {},
   "outputs": [
    {
     "name": "stdout",
     "output_type": "stream",
     "text": [
      "Shape of train_x is: (21365, 31)\n",
      "Shape of train_y is: (21365,)\n",
      "Shape of test_x is: (5342, 31)\n",
      "Shape of test_y is: (5342,)\n"
     ]
    }
   ],
   "source": [
    "# Train test split\n",
    "\n",
    "from sklearn.model_selection import train_test_split\n",
    "\n",
    "train_x, test_x, train_y, test_y = train_test_split(x, y, test_size=0.2, random_state=40)\n",
    "\n",
    "print('Shape of train_x is:',train_x.shape)\n",
    "print('Shape of train_y is:',train_y.shape)\n",
    "print('Shape of test_x is:',test_x.shape)\n",
    "print('Shape of test_y is:',test_y.shape)"
   ]
  },
  {
   "cell_type": "code",
   "execution_count": null,
   "id": "965fdcf2",
   "metadata": {},
   "outputs": [],
   "source": []
  },
  {
   "cell_type": "markdown",
   "id": "5bd4766f",
   "metadata": {},
   "source": [
    "## *Building Logistic Regression Model*"
   ]
  },
  {
   "cell_type": "markdown",
   "id": "bee2f2d3",
   "metadata": {},
   "source": [
    "### Model 1"
   ]
  },
  {
   "cell_type": "code",
   "execution_count": 35,
   "id": "14458fee",
   "metadata": {},
   "outputs": [
    {
     "name": "stdout",
     "output_type": "stream",
     "text": [
      "Train accuracy is 0.8503627428036509\n",
      "Test accuracy is 0.8523025084238113\n"
     ]
    }
   ],
   "source": [
    "# Creating the Logistic Regression model\n",
    "from sklearn.linear_model import LogisticRegression\n",
    "\n",
    "logreg = LogisticRegression()\n",
    "\n",
    "logreg.fit(train_x, train_y)\n",
    "\n",
    "logreg_pred = logreg.predict(test_x)\n",
    "\n",
    "logreg_pred_prob = logreg.predict_proba(test_x)\n",
    "\n",
    "print('Train accuracy is',logreg.score(train_x, train_y))\n",
    "print('Test accuracy is',logreg.score(test_x, test_y))"
   ]
  },
  {
   "cell_type": "code",
   "execution_count": 36,
   "id": "e9ef4d49",
   "metadata": {},
   "outputs": [
    {
     "name": "stdout",
     "output_type": "stream",
     "text": [
      "Confision matrix:\n",
      " [[3976  213]\n",
      " [ 576  577]]\n",
      "\n",
      "Accuracy score is:\n",
      " 0.8523025084238113\n",
      "\n",
      "Recall score is:\n",
      " 0.5004336513443192\n",
      "\n",
      "Precision score is:\n",
      " 0.730379746835443\n",
      "\n",
      "F1 score is:\n",
      " 0.5939269171384457\n",
      "\n",
      "Classification report is:\n",
      "               precision    recall  f1-score   support\n",
      "\n",
      "           0       0.87      0.95      0.91      4189\n",
      "           1       0.73      0.50      0.59      1153\n",
      "\n",
      "    accuracy                           0.85      5342\n",
      "   macro avg       0.80      0.72      0.75      5342\n",
      "weighted avg       0.84      0.85      0.84      5342\n",
      "\n"
     ]
    }
   ],
   "source": [
    "from sklearn.metrics import confusion_matrix, classification_report, recall_score, precision_score, f1_score, accuracy_score\n",
    "\n",
    "cfm = confusion_matrix(y_true=test_y, y_pred=logreg_pred)\n",
    "print('Confision matrix:\\n',cfm)\n",
    "print('\\nAccuracy score is:\\n',accuracy_score(test_y, logreg_pred))\n",
    "print('\\nRecall score is:\\n',recall_score(test_y, logreg_pred))\n",
    "print('\\nPrecision score is:\\n',precision_score(test_y, logreg_pred))\n",
    "print('\\nF1 score is:\\n',f1_score(test_y, logreg_pred))\n",
    "print('\\nClassification report is:\\n',classification_report(test_y, logreg_pred))"
   ]
  },
  {
   "cell_type": "code",
   "execution_count": 329,
   "id": "6e49f076",
   "metadata": {},
   "outputs": [
    {
     "name": "stdout",
     "output_type": "stream",
     "text": [
      "0.6803627560489472\n"
     ]
    }
   ],
   "source": [
    "from sklearn.metrics import precision_recall_curve, auc\n",
    "\n",
    "logreg_precision, logreg_recall, threshold = precision_recall_curve(test_y, logreg_pred_prob[: ,1])\n",
    "logreg_auc = auc(logreg_recall, logreg_precision)\n",
    "print(logreg_auc)"
   ]
  },
  {
   "cell_type": "code",
   "execution_count": 37,
   "id": "2532a8a5",
   "metadata": {},
   "outputs": [
    {
     "name": "stdout",
     "output_type": "stream",
     "text": [
      "roc_auc_score is 0.7247930968586002\n"
     ]
    }
   ],
   "source": [
    "from sklearn.metrics import roc_auc_score, roc_curve\n",
    "\n",
    "logreg_roc_auc_score = roc_auc_score(test_y, logreg_pred)\n",
    "logreg_fpr, logreg_tpr, logreg_threshold = roc_curve(test_y, logreg_pred_prob[:,1])\n",
    "print('roc_auc_score is',logreg_roc_auc_score)"
   ]
  },
  {
   "cell_type": "markdown",
   "id": "f5170785",
   "metadata": {},
   "source": [
    "- This models accuracy is 85% but looking at confusion matrix we can say that model is performing better for predicting class 0 but failing to predict class 1.\n",
    "- ROC Area Under Curve is 0.72.\n",
    "- In next model we will try SMOTE to oversample the minority class and to improve accuracy of model."
   ]
  },
  {
   "cell_type": "code",
   "execution_count": null,
   "id": "34c577cf",
   "metadata": {},
   "outputs": [],
   "source": []
  },
  {
   "cell_type": "markdown",
   "id": "f33b8c82",
   "metadata": {},
   "source": [
    "### Model 2"
   ]
  },
  {
   "cell_type": "code",
   "execution_count": 38,
   "id": "0f54d1c5",
   "metadata": {},
   "outputs": [
    {
     "name": "stdout",
     "output_type": "stream",
     "text": [
      "New shape of train_x_resample is: (28634, 31)\n",
      "New shape of train_y_resample is: (28634,)\n",
      "\n",
      "Before using SMOTE\n",
      " 0    16844\n",
      "1     4521\n",
      "Name: h1n1_vaccine, dtype: int64\n",
      "\n",
      "After using SMOTE\n",
      " 0    16844\n",
      "1    11790\n",
      "Name: h1n1_vaccine, dtype: int64\n"
     ]
    }
   ],
   "source": [
    "# Applying SMOTEN\n",
    "\n",
    "from imblearn.over_sampling import SMOTEN\n",
    "\n",
    "smoten = SMOTEN(sampling_strategy=0.7, random_state=10, k_neighbors=5)\n",
    "\n",
    "# Resampling train data\n",
    "train_x_resample, train_y_resample = smoten.fit_resample(train_x, train_y)\n",
    "\n",
    "print('New shape of train_x_resample is:',train_x_resample.shape)\n",
    "print('New shape of train_y_resample is:',train_y_resample.shape)\n",
    "\n",
    "print('\\nBefore using SMOTE\\n',train_y.value_counts())\n",
    "print('\\nAfter using SMOTE\\n',train_y_resample.value_counts())"
   ]
  },
  {
   "cell_type": "raw",
   "id": "1b62418d",
   "metadata": {},
   "source": [
    "for i in train_x.columns:\n",
    "    print(train_x_resample[i].unique())\n",
    "    print(train_x_resample[i].nunique())\n",
    "    print('***************************************')"
   ]
  },
  {
   "cell_type": "code",
   "execution_count": 39,
   "id": "c5d79495",
   "metadata": {},
   "outputs": [
    {
     "name": "stdout",
     "output_type": "stream",
     "text": [
      "Train accuracy is 0.8182230914297688\n",
      "Test accuracy is 0.817109696742793\n"
     ]
    }
   ],
   "source": [
    "# Creating the Logistic Regression model on Oversampled data\n",
    "\n",
    "logreg_smote = LogisticRegression()\n",
    "\n",
    "logreg_smote.fit(train_x_resample, train_y_resample)\n",
    "\n",
    "logreg_smote_pred = logreg_smote.predict(test_x)\n",
    "\n",
    "logreg_smote_pred_prob = logreg_smote.predict_proba(test_x)\n",
    "\n",
    "print('Train accuracy is',logreg_smote.score(train_x_resample, train_y_resample))\n",
    "print('Test accuracy is',logreg_smote.score(test_x, test_y))"
   ]
  },
  {
   "cell_type": "code",
   "execution_count": 40,
   "id": "0cec7bbb",
   "metadata": {},
   "outputs": [
    {
     "name": "stdout",
     "output_type": "stream",
     "text": [
      "Confision matrix:\n",
      " [[3640  549]\n",
      " [ 428  725]]\n",
      "\n",
      "Accuracy score is:\n",
      " 0.817109696742793\n",
      "\n",
      "Recall score is:\n",
      " 0.6287944492627927\n",
      "\n",
      "Precision score is:\n",
      " 0.5690737833594977\n",
      "\n",
      "F1 score is:\n",
      " 0.5974454058508446\n",
      "\n",
      "Classification report is:\n",
      "               precision    recall  f1-score   support\n",
      "\n",
      "           0       0.89      0.87      0.88      4189\n",
      "           1       0.57      0.63      0.60      1153\n",
      "\n",
      "    accuracy                           0.82      5342\n",
      "   macro avg       0.73      0.75      0.74      5342\n",
      "weighted avg       0.82      0.82      0.82      5342\n",
      "\n"
     ]
    }
   ],
   "source": [
    "cfm_smote = confusion_matrix(test_y, logreg_smote_pred)\n",
    "print('Confision matrix:\\n',cfm_smote)\n",
    "print('\\nAccuracy score is:\\n',accuracy_score(test_y, logreg_smote_pred))\n",
    "print('\\nRecall score is:\\n',recall_score(test_y, logreg_smote_pred))\n",
    "print('\\nPrecision score is:\\n',precision_score(test_y, logreg_smote_pred))\n",
    "print('\\nF1 score is:\\n',f1_score(test_y, logreg_smote_pred))\n",
    "print('\\nClassification report is:\\n',classification_report(test_y, logreg_smote_pred))"
   ]
  },
  {
   "cell_type": "code",
   "execution_count": 330,
   "id": "2bc05caf",
   "metadata": {},
   "outputs": [
    {
     "name": "stdout",
     "output_type": "stream",
     "text": [
      "0.6321017738758384\n"
     ]
    }
   ],
   "source": [
    "logreg_smote_precision, logreg_smote_recall, threshold = precision_recall_curve(test_y, logreg_smote_pred_prob[: ,1])\n",
    "logreg_smote_auc = auc(logreg_smote_recall, logreg_smote_precision)\n",
    "print(logreg_smote_auc)"
   ]
  },
  {
   "cell_type": "code",
   "execution_count": 41,
   "id": "25533137",
   "metadata": {},
   "outputs": [
    {
     "name": "stdout",
     "output_type": "stream",
     "text": [
      "roc_auc_score is 0.748868458816166\n"
     ]
    }
   ],
   "source": [
    "logreg_smote_roc_auc_score = roc_auc_score(test_y, logreg_smote_pred)\n",
    "logreg_smote_fpr, logreg_smote_tpr, logreg_smote_threshold = roc_curve(test_y, logreg_smote_pred_prob[:,1])\n",
    "print('roc_auc_score is',logreg_smote_roc_auc_score)"
   ]
  },
  {
   "cell_type": "markdown",
   "id": "5da4f7be",
   "metadata": {},
   "source": [
    "- After applying the SMOTE accuracy is 82% with F1 score of 0.59.\n",
    "- The ROC Area Under Curve is 0.74.\n",
    "- In next model we will use undersampling technique."
   ]
  },
  {
   "cell_type": "code",
   "execution_count": null,
   "id": "34f12069",
   "metadata": {},
   "outputs": [],
   "source": []
  },
  {
   "cell_type": "markdown",
   "id": "b080be2c",
   "metadata": {},
   "source": [
    "### Model 3 "
   ]
  },
  {
   "cell_type": "code",
   "execution_count": 293,
   "id": "94ac33a8",
   "metadata": {},
   "outputs": [
    {
     "name": "stdout",
     "output_type": "stream",
     "text": [
      "New shape of train_x_under is: (9042, 31)\n",
      "New shape of train_y_under is: (9042,)\n",
      "\n",
      "Before using RandomUnderSampler\n",
      " 0    16844\n",
      "1     4521\n",
      "Name: h1n1_vaccine, dtype: int64\n",
      "\n",
      "After using RandomUnderSampler\n",
      " 0    4521\n",
      "1    4521\n",
      "Name: h1n1_vaccine, dtype: int64\n"
     ]
    }
   ],
   "source": [
    "# Using under sampling techniques\n",
    "\n",
    "from imblearn.under_sampling import RandomUnderSampler\n",
    "\n",
    "under_sam = RandomUnderSampler(random_state=0)\n",
    "\n",
    "# Applying RandomUnderSampler\n",
    "train_x_under, train_y_under = under_sam.fit_resample(train_x, train_y)\n",
    "\n",
    "print('New shape of train_x_under is:',train_x_under.shape)\n",
    "print('New shape of train_y_under is:',train_y_under.shape)\n",
    "\n",
    "print('\\nBefore using RandomUnderSampler\\n',train_y.value_counts())\n",
    "print('\\nAfter using RandomUnderSampler\\n',train_y_under.value_counts())"
   ]
  },
  {
   "cell_type": "code",
   "execution_count": 43,
   "id": "bb3a1812",
   "metadata": {},
   "outputs": [
    {
     "name": "stdout",
     "output_type": "stream",
     "text": [
      "Train accuracy is 0.7819066578190665\n",
      "Test accuracy is 0.7890303257207039\n"
     ]
    }
   ],
   "source": [
    "# Creating the Logistic Regression model on Undersampled data\n",
    "\n",
    "logreg_under = LogisticRegression()\n",
    "\n",
    "logreg_under.fit(train_x_under, train_y_under)\n",
    "\n",
    "logreg_under_pred = logreg_under.predict(test_x)\n",
    "\n",
    "logreg_under_pred_prob = logreg_under.predict_proba(test_x)\n",
    "\n",
    "print('Train accuracy is',logreg_under.score(train_x_under, train_y_under))\n",
    "print('Test accuracy is',logreg_under.score(test_x, test_y))"
   ]
  },
  {
   "cell_type": "code",
   "execution_count": 44,
   "id": "e6ca5943",
   "metadata": {},
   "outputs": [
    {
     "name": "stdout",
     "output_type": "stream",
     "text": [
      "Confision matrix:\n",
      " [[3320  869]\n",
      " [ 258  895]]\n",
      "\n",
      "Accuracy score is:\n",
      " 0.7890303257207039\n",
      "\n",
      "Recall score is:\n",
      " 0.7762359063313097\n",
      "\n",
      "Precision score is:\n",
      " 0.5073696145124716\n",
      "\n",
      "F1 score is:\n",
      " 0.6136441549537196\n",
      "\n",
      "Classification report is:\n",
      "               precision    recall  f1-score   support\n",
      "\n",
      "           0       0.93      0.79      0.85      4189\n",
      "           1       0.51      0.78      0.61      1153\n",
      "\n",
      "    accuracy                           0.79      5342\n",
      "   macro avg       0.72      0.78      0.73      5342\n",
      "weighted avg       0.84      0.79      0.80      5342\n",
      "\n"
     ]
    }
   ],
   "source": [
    "cfm_under = confusion_matrix(test_y, logreg_under_pred)\n",
    "print('Confision matrix:\\n',cfm_under)\n",
    "print('\\nAccuracy score is:\\n',accuracy_score(test_y, logreg_under_pred))\n",
    "print('\\nRecall score is:\\n',recall_score(test_y, logreg_under_pred))\n",
    "print('\\nPrecision score is:\\n',precision_score(test_y, logreg_under_pred))\n",
    "print('\\nF1 score is:\\n',f1_score(test_y, logreg_under_pred))\n",
    "print('\\nClassification report is:\\n',classification_report(test_y, logreg_under_pred))"
   ]
  },
  {
   "cell_type": "code",
   "execution_count": 331,
   "id": "6dc86e80",
   "metadata": {},
   "outputs": [
    {
     "name": "stdout",
     "output_type": "stream",
     "text": [
      "0.6742649964924523\n"
     ]
    }
   ],
   "source": [
    "logreg_under_precision, logreg_under_recall, threshold = precision_recall_curve(test_y, logreg_under_pred_prob[: ,1])\n",
    "logreg_under_auc = auc(logreg_under_recall, logreg_under_precision)\n",
    "print(logreg_under_auc)"
   ]
  },
  {
   "cell_type": "code",
   "execution_count": 45,
   "id": "46ffb28f",
   "metadata": {},
   "outputs": [
    {
     "name": "stdout",
     "output_type": "stream",
     "text": [
      "roc_auc_score is: 0.7843939140154997\n"
     ]
    }
   ],
   "source": [
    "logreg_under_roc_auc_score = roc_auc_score(test_y, logreg_under_pred)\n",
    "logreg_under_fpr, logreg_under_tpr, logreg_under_threshold = roc_curve(test_y, logreg_under_pred_prob[:,1])\n",
    "print('roc_auc_score is:', logreg_under_roc_auc_score)"
   ]
  },
  {
   "cell_type": "markdown",
   "id": "ed02270e",
   "metadata": {},
   "source": [
    "- After using undersampling the models accuracy is 79% and F1 score is 0.61.\n",
    "- roc_auc_score is 0.78."
   ]
  },
  {
   "cell_type": "code",
   "execution_count": null,
   "id": "7cd0d154",
   "metadata": {},
   "outputs": [],
   "source": []
  },
  {
   "cell_type": "markdown",
   "id": "7df690b9",
   "metadata": {},
   "source": [
    "### Model 4 "
   ]
  },
  {
   "cell_type": "code",
   "execution_count": 65,
   "id": "fec1d5a5",
   "metadata": {},
   "outputs": [
    {
     "name": "stdout",
     "output_type": "stream",
     "text": [
      "Shape of train_x is: (21365, 15)\n",
      "Shape of train_y is: (21365,)\n",
      "Shape of test_x is: (5342, 15)\n",
      "Shape of test_y is: (5342,)\n"
     ]
    }
   ],
   "source": [
    "# Using RFE selected features with SMOTE\n",
    "\n",
    "log = LogisticRegression()\n",
    "rfe = RFE(logreg, n_features_to_select=15)\n",
    "rfe = rfe.fit(x, y)\n",
    "\n",
    "selected_features=x.columns[rfe.support_]\n",
    "x_rfe = x[selected_features]\n",
    "\n",
    "train_x, test_x, train_y, test_y = train_test_split(x_rfe, y, test_size=0.2, random_state=40)\n",
    "\n",
    "print('Shape of train_x is:',train_x.shape)\n",
    "print('Shape of train_y is:',train_y.shape)\n",
    "print('Shape of test_x is:',test_x.shape)\n",
    "print('Shape of test_y is:',test_y.shape)"
   ]
  },
  {
   "cell_type": "code",
   "execution_count": 66,
   "id": "321a35cd",
   "metadata": {},
   "outputs": [
    {
     "name": "stdout",
     "output_type": "stream",
     "text": [
      "New shape of train_x_resample is: (28634, 15)\n",
      "New shape of train_y_resample is: (28634,)\n",
      "\n",
      "Before using SMOTE\n",
      " 0    16844\n",
      "1     4521\n",
      "Name: h1n1_vaccine, dtype: int64\n",
      "\n",
      "After using SMOTE\n",
      " 0    16844\n",
      "1    11790\n",
      "Name: h1n1_vaccine, dtype: int64\n",
      "\n",
      "Train accuracy is 0.8051267723685129\n",
      "\n",
      "Test accuracy is 0.8163609135155373\n"
     ]
    }
   ],
   "source": [
    "# Applying SMOTEN\n",
    "\n",
    "smoten = SMOTEN(sampling_strategy=0.7, random_state=10, k_neighbors=5)\n",
    "\n",
    "# Resampling train data\n",
    "train_x_resample, train_y_resample = smoten.fit_resample(train_x, train_y)\n",
    "\n",
    "print('New shape of train_x_resample is:',train_x_resample.shape)\n",
    "print('New shape of train_y_resample is:',train_y_resample.shape)\n",
    "\n",
    "print('\\nBefore using SMOTE\\n',train_y.value_counts())\n",
    "print('\\nAfter using SMOTE\\n',train_y_resample.value_counts())\n",
    "\n",
    "logreg_smote1 = LogisticRegression()\n",
    "\n",
    "logreg_smote1.fit(train_x_resample, train_y_resample)\n",
    "\n",
    "logreg_smote1_pred = logreg_smote1.predict(test_x)\n",
    "\n",
    "logreg_smote1_pred_prob = logreg_smote1.predict_proba(test_x)\n",
    "\n",
    "print('\\nTrain accuracy is',logreg_smote1.score(train_x_resample, train_y_resample))\n",
    "print('\\nTest accuracy is',logreg_smote1.score(test_x, test_y))"
   ]
  },
  {
   "cell_type": "code",
   "execution_count": 72,
   "id": "b5b03e97",
   "metadata": {},
   "outputs": [
    {
     "name": "stdout",
     "output_type": "stream",
     "text": [
      "Confision matrix:\n",
      " [[3588  601]\n",
      " [ 380  773]]\n",
      "\n",
      "Accuracy score is:\n",
      " 0.8163609135155373\n",
      "\n",
      "Recall score is:\n",
      " 0.6704249783174328\n",
      "\n",
      "Precision score is:\n",
      " 0.5625909752547307\n",
      "\n",
      "F1 score is:\n",
      " 0.6117926394934705\n",
      "\n",
      "Classification report is:\n",
      "               precision    recall  f1-score   support\n",
      "\n",
      "           0       0.90      0.86      0.88      4189\n",
      "           1       0.56      0.67      0.61      1153\n",
      "\n",
      "    accuracy                           0.82      5342\n",
      "   macro avg       0.73      0.76      0.75      5342\n",
      "weighted avg       0.83      0.82      0.82      5342\n",
      "\n"
     ]
    }
   ],
   "source": [
    "cfm_smote1 = confusion_matrix(test_y, logreg_smote1_pred)\n",
    "print('Confision matrix:\\n',cfm_smote1)\n",
    "print('\\nAccuracy score is:\\n',accuracy_score(test_y, logreg_smote1_pred))\n",
    "print('\\nRecall score is:\\n',recall_score(test_y, logreg_smote1_pred))\n",
    "print('\\nPrecision score is:\\n',precision_score(test_y, logreg_smote1_pred))\n",
    "print('\\nF1 score is:\\n',f1_score(test_y, logreg_smote1_pred))\n",
    "print('\\nClassification report is:\\n',classification_report(test_y, logreg_smote1_pred))"
   ]
  },
  {
   "cell_type": "code",
   "execution_count": 332,
   "id": "91b1b2cb",
   "metadata": {},
   "outputs": [
    {
     "name": "stdout",
     "output_type": "stream",
     "text": [
      "0.6558771113240969\n"
     ]
    }
   ],
   "source": [
    "logreg_smote1_precision, logreg_smote1_recall, threshold = precision_recall_curve(test_y, logreg_smote1_pred_prob[: ,1])\n",
    "logreg_smote1_auc = auc(logreg_smote1_recall, logreg_smote1_precision)\n",
    "print(logreg_smote1_auc)"
   ]
  },
  {
   "cell_type": "code",
   "execution_count": 73,
   "id": "f8688b54",
   "metadata": {},
   "outputs": [
    {
     "name": "stdout",
     "output_type": "stream",
     "text": [
      "roc_auc_score is 0.7634769914265608\n"
     ]
    }
   ],
   "source": [
    "logreg_smote1_roc_auc_score = roc_auc_score(test_y, logreg_smote1_pred)\n",
    "logreg_smote1_fpr, logreg_smote1_tpr, logreg_smote1_threshold = roc_curve(test_y, logreg_smote1_pred_prob[:,1])\n",
    "print('roc_auc_score is',logreg_smote1_roc_auc_score)"
   ]
  },
  {
   "cell_type": "markdown",
   "id": "0d510c8c",
   "metadata": {},
   "source": [
    "- In this model we are using only 15 features along with oversampling technique(SMOTE).\n",
    "- Model accuracy is 82% with F1 of 0.61 and ROC_AUC_score of 0.76."
   ]
  },
  {
   "cell_type": "code",
   "execution_count": null,
   "id": "ae9fd93c",
   "metadata": {},
   "outputs": [],
   "source": []
  },
  {
   "cell_type": "markdown",
   "id": "e25ecb49",
   "metadata": {},
   "source": [
    "### Model 5"
   ]
  },
  {
   "cell_type": "code",
   "execution_count": 182,
   "id": "100b9b3a",
   "metadata": {},
   "outputs": [
    {
     "name": "stdout",
     "output_type": "stream",
     "text": [
      "Shape of train_x is: (21365, 13)\n",
      "Shape of train_y is: (21365,)\n",
      "Shape of test_x is: (5342, 13)\n",
      "Shape of test_y is: (5342,)\n"
     ]
    }
   ],
   "source": [
    "# Using SelectKbest selected features with SMOTE\n",
    "\n",
    "selectKbest = SelectKBest(chi2, k=13).fit(x, y)\n",
    "\n",
    "selected_features_kbest=x.columns[selectKbest.get_support()]\n",
    "x_selectKbest = x[selected_features_kbest]\n",
    "\n",
    "train_x, test_x, train_y, test_y = train_test_split(x_selectKbest, y, test_size=0.2, random_state=40)\n",
    "\n",
    "print('Shape of train_x is:',train_x.shape)\n",
    "print('Shape of train_y is:',train_y.shape)\n",
    "print('Shape of test_x is:',test_x.shape)\n",
    "print('Shape of test_y is:',test_y.shape)"
   ]
  },
  {
   "cell_type": "code",
   "execution_count": 183,
   "id": "f2d6a833",
   "metadata": {},
   "outputs": [
    {
     "name": "stdout",
     "output_type": "stream",
     "text": [
      "New shape of train_x_resample is: (27792, 13)\n",
      "New shape of train_y_resample is: (27792,)\n",
      "\n",
      "Before using SMOTE\n",
      " 0    16844\n",
      "1     4521\n",
      "Name: h1n1_vaccine, dtype: int64\n",
      "\n",
      "After using SMOTE\n",
      " 0    16844\n",
      "1    10948\n",
      "Name: h1n1_vaccine, dtype: int64\n",
      "\n",
      "Train accuracy is 0.7909110535405872\n",
      "\n",
      "Test accuracy is 0.8186072631973044\n"
     ]
    }
   ],
   "source": [
    "# Applying SMOTEN\n",
    "\n",
    "smoten = SMOTEN(random_state=65, k_neighbors=5, sampling_strategy=0.65)\n",
    "\n",
    "# Resampling train data\n",
    "train_x_resample, train_y_resample = smoten.fit_resample(train_x, train_y)\n",
    "\n",
    "print('New shape of train_x_resample is:',train_x_resample.shape)\n",
    "print('New shape of train_y_resample is:',train_y_resample.shape)\n",
    "\n",
    "print('\\nBefore using SMOTE\\n',train_y.value_counts())\n",
    "print('\\nAfter using SMOTE\\n',train_y_resample.value_counts())\n",
    "\n",
    "logreg_smote2 = LogisticRegression()\n",
    "\n",
    "logreg_smote2.fit(train_x_resample, train_y_resample)\n",
    "\n",
    "logreg_smote2_pred = logreg_smote2.predict(test_x)\n",
    "\n",
    "logreg_smote2_pred_prob = logreg_smote2.predict_proba(test_x)\n",
    "\n",
    "print('\\nTrain accuracy is',logreg_smote2.score(train_x_resample, train_y_resample))\n",
    "print('\\nTest accuracy is',logreg_smote2.score(test_x, test_y))"
   ]
  },
  {
   "cell_type": "code",
   "execution_count": 184,
   "id": "f228811e",
   "metadata": {},
   "outputs": [
    {
     "name": "stdout",
     "output_type": "stream",
     "text": [
      "Confision matrix:\n",
      " [[3610  579]\n",
      " [ 390  763]]\n",
      "\n",
      "Accuracy score is:\n",
      " 0.8186072631973044\n",
      "\n",
      "Recall score is:\n",
      " 0.6617519514310495\n",
      "\n",
      "Precision score is:\n",
      " 0.5685543964232489\n",
      "\n",
      "F1 score is:\n",
      " 0.611623246492986\n",
      "\n",
      "Classification report is:\n",
      "               precision    recall  f1-score   support\n",
      "\n",
      "           0       0.90      0.86      0.88      4189\n",
      "           1       0.57      0.66      0.61      1153\n",
      "\n",
      "    accuracy                           0.82      5342\n",
      "   macro avg       0.74      0.76      0.75      5342\n",
      "weighted avg       0.83      0.82      0.82      5342\n",
      "\n"
     ]
    }
   ],
   "source": [
    "cfm_smote2 = confusion_matrix(test_y, logreg_smote2_pred)\n",
    "print('Confision matrix:\\n',cfm_smote2)\n",
    "print('\\nAccuracy score is:\\n',accuracy_score(test_y, logreg_smote2_pred))\n",
    "print('\\nRecall score is:\\n',recall_score(test_y, logreg_smote2_pred))\n",
    "print('\\nPrecision score is:\\n',precision_score(test_y, logreg_smote2_pred))\n",
    "print('\\nF1 score is:\\n',f1_score(test_y, logreg_smote2_pred))\n",
    "print('\\nClassification report is:\\n',classification_report(test_y, logreg_smote2_pred))"
   ]
  },
  {
   "cell_type": "code",
   "execution_count": 334,
   "id": "6ba239f9",
   "metadata": {},
   "outputs": [
    {
     "name": "stdout",
     "output_type": "stream",
     "text": [
      "0.6638965368362917\n"
     ]
    }
   ],
   "source": [
    "logreg_smote2_precision, logreg_smote2_recall, threshold = precision_recall_curve(test_y, logreg_smote2_pred_prob[: ,1])\n",
    "logreg_smote2_auc = auc(logreg_smote2_recall, logreg_smote2_precision)\n",
    "print(logreg_smote2_auc)"
   ]
  },
  {
   "cell_type": "code",
   "execution_count": 185,
   "id": "9029dbdb",
   "metadata": {},
   "outputs": [
    {
     "name": "stdout",
     "output_type": "stream",
     "text": [
      "roc_auc_score is 0.7617664030251453\n"
     ]
    }
   ],
   "source": [
    "logreg_smote2_roc_auc_score = roc_auc_score(test_y, logreg_smote2_pred)\n",
    "logreg_smote2_fpr, logreg_smote2_tpr, logreg_smote2_threshold = roc_curve(test_y, logreg_smote2_pred_prob[:,1])\n",
    "print('roc_auc_score is',logreg_smote2_roc_auc_score)"
   ]
  },
  {
   "cell_type": "markdown",
   "id": "26649a17",
   "metadata": {},
   "source": [
    "- In this model we have used SelectKbest method along with SMOTE.\n",
    "- Model accuracy is 0.81 and F1 score is 0.61."
   ]
  },
  {
   "cell_type": "code",
   "execution_count": 340,
   "id": "e030d778",
   "metadata": {},
   "outputs": [],
   "source": [
    "results = pd.DataFrame({'Model':[1,2,3,4,5],\n",
    "                        'train_accuracy':[0.85,0.81,0.78,0.80,0.79], \n",
    "                        'test_accuracy':[0.85,0.81,0.78,0.81,0.81],\n",
    "                        'Accuracy_score':[0.85,0.81,0.78,0.81,0.81],\n",
    "                        'Recall_score':[0.50,0.62,0.77,0.67,0.66],\n",
    "                        'Precision_score':[0.73,0.56,0.50,0.56,0.56],\n",
    "                        'F1_score':[0.59,0.59,0.61,0.61,0.61],\n",
    "                        'ROC_AUC_score':[0.72,0.74,0.78,0.76,0.76]})"
   ]
  },
  {
   "cell_type": "code",
   "execution_count": null,
   "id": "a126b152",
   "metadata": {},
   "outputs": [],
   "source": []
  },
  {
   "cell_type": "markdown",
   "id": "6e05ec6c",
   "metadata": {},
   "source": [
    "## *Result and Conclusion*"
   ]
  },
  {
   "cell_type": "code",
   "execution_count": 338,
   "id": "4ae86769",
   "metadata": {},
   "outputs": [
    {
     "data": {
      "image/png": "[encoded data removed]",
      "text/plain": [
       "<Figure size 640x480 with 1 Axes>"
      ]
     },
     "metadata": {},
     "output_type": "display_data"
    }
   ],
   "source": [
    "# ROC AUC Curve\n",
    "\n",
    "plt.plot(logreg_fpr, logreg_tpr, label='Model 1, AUC=%.2f'%logreg_roc_auc_score, lw=1)\n",
    "plt.plot(logreg_smote_fpr, logreg_smote_tpr, label='Model 2, AUC=%.2f'%logreg_smote_roc_auc_score, lw=1)\n",
    "plt.plot(logreg_under_fpr, logreg_under_tpr, label='Model 3, AUC=%.2f'%logreg_under_roc_auc_score, lw=1)\n",
    "plt.plot(logreg_smote1_fpr, logreg_smote1_tpr, label='Model 4, AUC=%.2f'%logreg_smote1_roc_auc_score, lw=1)\n",
    "plt.plot(logreg_smote2_fpr, logreg_smote2_tpr, label='Model 5, AUC=%.2f'%logreg_smote2_roc_auc_score, lw=1)\n",
    "plt.plot([0,1],[0,1],linestyle='--', lw=1)\n",
    "plt.xlabel('False Positive Rate')\n",
    "plt.ylabel('True Positive Rate')\n",
    "plt.legend(loc='lower right')\n",
    "plt.title('ROC-AUC-Curve')\n",
    "plt.show()"
   ]
  },
  {
   "cell_type": "code",
   "execution_count": 337,
   "id": "3b160e06",
   "metadata": {},
   "outputs": [
    {
     "data": {
      "image/png": "[encoded data removed]",
      "text/plain": [
       "<Figure size 640x480 with 1 Axes>"
      ]
     },
     "metadata": {},
     "output_type": "display_data"
    }
   ],
   "source": [
    "# Precision Recall Curve\n",
    "\n",
    "plt.plot(logreg_recall, logreg_precision, label='Model 1 auc=%0.2f'%logreg_auc, lw=1)\n",
    "plt.plot(logreg_smote_recall, logreg_smote_precision, label='Model 2 auc=%0.2f'%logreg_smote_auc, lw=1)\n",
    "plt.plot(logreg_under_recall, logreg_under_precision, label='Model 3 auc=%0.2f'%logreg_under_auc, lw=1)\n",
    "plt.plot(logreg_smote1_recall, logreg_smote1_precision, label='Model 4 auc=%0.2f'%logreg_smote1_auc, lw=1)\n",
    "plt.plot(logreg_smote2_recall, logreg_smote2_precision, label='Model 5 auc=%0.2f'%logreg_smote2_auc, lw=1)\n",
    "plt.xlabel('Recall')\n",
    "plt.ylabel('Precision')\n",
    "plt.title('Precision-Recall Curve')\n",
    "plt.legend()\n",
    "plt.show()"
   ]
  },
  {
   "cell_type": "code",
   "execution_count": 339,
   "id": "b6af9b5a",
   "metadata": {},
   "outputs": [
    {
     "data": {
      "text/html": [
       "<div>\n",
       "<style scoped>\n",
       "    .dataframe tbody tr th:only-of-type {\n",
       "        vertical-align: middle;\n",
       "    }\n",
       "\n",
       "    .dataframe tbody tr th {\n",
       "        vertical-align: top;\n",
       "    }\n",
       "\n",
       "    .dataframe thead th {\n",
       "        text-align: right;\n",
       "    }\n",
       "</style>\n",
       "<table border=\"1\" class=\"dataframe\">\n",
       "  <thead>\n",
       "    <tr style=\"text-align: right;\">\n",
       "      <th></th>\n",
       "      <th>Model</th>\n",
       "      <th>train_accuracy</th>\n",
       "      <th>test_accuracy</th>\n",
       "      <th>Accuracy_score</th>\n",
       "      <th>Recall_score</th>\n",
       "      <th>Precision_score</th>\n",
       "      <th>F1_score</th>\n",
       "      <th>ROC_AUC_score</th>\n",
       "    </tr>\n",
       "  </thead>\n",
       "  <tbody>\n",
       "    <tr>\n",
       "      <th>0</th>\n",
       "      <td>1</td>\n",
       "      <td>0.85</td>\n",
       "      <td>0.85</td>\n",
       "      <td>0.85</td>\n",
       "      <td>0.50</td>\n",
       "      <td>0.73</td>\n",
       "      <td>0.59</td>\n",
       "      <td>0.72</td>\n",
       "    </tr>\n",
       "    <tr>\n",
       "      <th>1</th>\n",
       "      <td>2</td>\n",
       "      <td>0.81</td>\n",
       "      <td>0.81</td>\n",
       "      <td>0.81</td>\n",
       "      <td>0.62</td>\n",
       "      <td>0.56</td>\n",
       "      <td>0.59</td>\n",
       "      <td>0.74</td>\n",
       "    </tr>\n",
       "    <tr>\n",
       "      <th>2</th>\n",
       "      <td>3</td>\n",
       "      <td>0.78</td>\n",
       "      <td>0.78</td>\n",
       "      <td>0.78</td>\n",
       "      <td>0.77</td>\n",
       "      <td>0.50</td>\n",
       "      <td>0.61</td>\n",
       "      <td>0.78</td>\n",
       "    </tr>\n",
       "    <tr>\n",
       "      <th>3</th>\n",
       "      <td>4</td>\n",
       "      <td>0.80</td>\n",
       "      <td>0.81</td>\n",
       "      <td>0.81</td>\n",
       "      <td>0.67</td>\n",
       "      <td>0.56</td>\n",
       "      <td>0.61</td>\n",
       "      <td>0.76</td>\n",
       "    </tr>\n",
       "    <tr>\n",
       "      <th>4</th>\n",
       "      <td>5</td>\n",
       "      <td>0.79</td>\n",
       "      <td>0.81</td>\n",
       "      <td>0.81</td>\n",
       "      <td>0.66</td>\n",
       "      <td>0.56</td>\n",
       "      <td>0.61</td>\n",
       "      <td>0.76</td>\n",
       "    </tr>\n",
       "  </tbody>\n",
       "</table>\n",
       "</div>"
      ],
      "text/plain": [
       "   Model  train_accuracy  test_accuracy  Accuracy_score  Recall_score  \\\n",
       "0      1            0.85           0.85            0.85          0.50   \n",
       "1      2            0.81           0.81            0.81          0.62   \n",
       "2      3            0.78           0.78            0.78          0.77   \n",
       "3      4            0.80           0.81            0.81          0.67   \n",
       "4      5            0.79           0.81            0.81          0.66   \n",
       "\n",
       "   Precision_score  F1_score  ROC_AUC_score  \n",
       "0             0.73      0.59           0.72  \n",
       "1             0.56      0.59           0.74  \n",
       "2             0.50      0.61           0.78  \n",
       "3             0.56      0.61           0.76  \n",
       "4             0.56      0.61           0.76  "
      ]
     },
     "execution_count": 339,
     "metadata": {},
     "output_type": "execute_result"
    }
   ],
   "source": [
    "results"
   ]
  },
  {
   "cell_type": "markdown",
   "id": "74b71027",
   "metadata": {},
   "source": [
    "- In this project we have only used Logistic Regression for predicting vaccine usage.\n",
    "- Almost all the Independent variables were categorical and contained missing values. \n",
    "- After cleaning and preprocessing the data total 5 models were created, In model 1 Imbalanced data was used as it is, SMOTE is used in model 2, In model 3 undersampling technique is used, In model 4 and 5 SMOTE is used along with combination of different feature seaction techniques.  \n",
    "- Models performance is judged on basis of confusion matrix, classification report and other metrics.\n",
    "- Based on above results it is clear that model is performing better after using SMOTE.\n",
    "- ROC_AUC_score of model 3 is 0.78 and Precision_Recall_AUC is 0.67 but considerable portion of dataset was not used for buildind the model so it is less reliable.\n",
    "- Model 4 and 5 performed better with F1 score of 0.61, Precision_Recall_AUC score of 0.66 and ROC_AUC score of 0.76.\n",
    "- Model 4 and 5 used only half of total number of features hence saving computational memory and time.\n",
    "- However it is observed that beyond this point models accuracy is increasing along with decrease in class 1 predictions."
   ]
  },
  {
   "cell_type": "markdown",
   "id": "48941af7",
   "metadata": {},
   "source": [
    "- Future Scope:\n",
    "\n",
    "Other classification techniques can be used on this dataset and as most variables are categorical ensemble technique like Randon Forest can increase the performance of model."
   ]
  },
  {
   "cell_type": "code",
   "execution_count": null,
   "id": "35cf5eb2",
   "metadata": {},
   "outputs": [],
   "source": []
  },
  {
   "cell_type": "code",
   "execution_count": null,
   "id": "c59d5325",
   "metadata": {},
   "outputs": [],
   "source": []
  }
 ],
 "metadata": {
  "kernelspec": {
   "display_name": "Python 3 (ipykernel)",
   "language": "python",
   "name": "python3"
  },
  "language_info": {
   "codemirror_mode": {
    "name": "ipython",
    "version": 3
   },
   "file_extension": ".py",
   "mimetype": "text/x-python",
   "name": "python",
   "nbconvert_exporter": "python",
   "pygments_lexer": "ipython3",
   "version": "3.10.9"
  }
 },
 "nbformat": 4,
 "nbformat_minor": 5
}
